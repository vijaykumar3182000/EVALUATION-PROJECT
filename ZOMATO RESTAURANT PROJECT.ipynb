{
 "cells": [
  {
   "cell_type": "markdown",
   "id": "a377ecef",
   "metadata": {},
   "source": [
    "                                              # ZOMATO RESTAURANT PROJECT"
   ]
  },
  {
   "cell_type": "code",
   "execution_count": null,
   "id": "22541327",
   "metadata": {},
   "outputs": [],
   "source": []
  },
  {
   "cell_type": "code",
   "execution_count": 1,
   "id": "adf95dd6",
   "metadata": {},
   "outputs": [],
   "source": [
    "# Basic Libraries\n",
    "import numpy as np\n",
    "import pandas as pd\n",
    "import warnings\n",
    "warnings.filterwarnings('ignore')\n",
    "\n",
    "# Data Visualization Libraries\n",
    "import seaborn as sns\n",
    "import matplotlib.pyplot as plt"
   ]
  },
  {
   "cell_type": "code",
   "execution_count": 2,
   "id": "9117be1d",
   "metadata": {},
   "outputs": [
    {
     "data": {
      "text/html": [
       "<div>\n",
       "<style scoped>\n",
       "    .dataframe tbody tr th:only-of-type {\n",
       "        vertical-align: middle;\n",
       "    }\n",
       "\n",
       "    .dataframe tbody tr th {\n",
       "        vertical-align: top;\n",
       "    }\n",
       "\n",
       "    .dataframe thead th {\n",
       "        text-align: right;\n",
       "    }\n",
       "</style>\n",
       "<table border=\"1\" class=\"dataframe\">\n",
       "  <thead>\n",
       "    <tr style=\"text-align: right;\">\n",
       "      <th></th>\n",
       "      <th>Restaurant ID</th>\n",
       "      <th>Restaurant Name</th>\n",
       "      <th>Country Code</th>\n",
       "      <th>City</th>\n",
       "      <th>Address</th>\n",
       "      <th>Locality</th>\n",
       "      <th>Locality Verbose</th>\n",
       "      <th>Longitude</th>\n",
       "      <th>Latitude</th>\n",
       "      <th>Cuisines</th>\n",
       "      <th>...</th>\n",
       "      <th>Has Table booking</th>\n",
       "      <th>Has Online delivery</th>\n",
       "      <th>Is delivering now</th>\n",
       "      <th>Switch to order menu</th>\n",
       "      <th>Price range</th>\n",
       "      <th>Aggregate rating</th>\n",
       "      <th>Rating color</th>\n",
       "      <th>Rating text</th>\n",
       "      <th>Votes</th>\n",
       "      <th>Country</th>\n",
       "    </tr>\n",
       "  </thead>\n",
       "  <tbody>\n",
       "    <tr>\n",
       "      <th>0</th>\n",
       "      <td>6317637</td>\n",
       "      <td>Le Petit Souffle</td>\n",
       "      <td>162</td>\n",
       "      <td>Makati City</td>\n",
       "      <td>Third Floor, Century City Mall, Kalayaan Avenu...</td>\n",
       "      <td>Century City Mall, Poblacion, Makati City</td>\n",
       "      <td>Century City Mall, Poblacion, Makati City, Mak...</td>\n",
       "      <td>121.027535</td>\n",
       "      <td>14.565443</td>\n",
       "      <td>French, Japanese, Desserts</td>\n",
       "      <td>...</td>\n",
       "      <td>Yes</td>\n",
       "      <td>No</td>\n",
       "      <td>No</td>\n",
       "      <td>No</td>\n",
       "      <td>3</td>\n",
       "      <td>4.8</td>\n",
       "      <td>Dark Green</td>\n",
       "      <td>Excellent</td>\n",
       "      <td>314</td>\n",
       "      <td>Phillipines</td>\n",
       "    </tr>\n",
       "    <tr>\n",
       "      <th>1</th>\n",
       "      <td>6304287</td>\n",
       "      <td>Izakaya Kikufuji</td>\n",
       "      <td>162</td>\n",
       "      <td>Makati City</td>\n",
       "      <td>Little Tokyo, 2277 Chino Roces Avenue, Legaspi...</td>\n",
       "      <td>Little Tokyo, Legaspi Village, Makati City</td>\n",
       "      <td>Little Tokyo, Legaspi Village, Makati City, Ma...</td>\n",
       "      <td>121.014101</td>\n",
       "      <td>14.553708</td>\n",
       "      <td>Japanese</td>\n",
       "      <td>...</td>\n",
       "      <td>Yes</td>\n",
       "      <td>No</td>\n",
       "      <td>No</td>\n",
       "      <td>No</td>\n",
       "      <td>3</td>\n",
       "      <td>4.5</td>\n",
       "      <td>Dark Green</td>\n",
       "      <td>Excellent</td>\n",
       "      <td>591</td>\n",
       "      <td>Phillipines</td>\n",
       "    </tr>\n",
       "    <tr>\n",
       "      <th>2</th>\n",
       "      <td>6300002</td>\n",
       "      <td>Heat - Edsa Shangri-La</td>\n",
       "      <td>162</td>\n",
       "      <td>Mandaluyong City</td>\n",
       "      <td>Edsa Shangri-La, 1 Garden Way, Ortigas, Mandal...</td>\n",
       "      <td>Edsa Shangri-La, Ortigas, Mandaluyong City</td>\n",
       "      <td>Edsa Shangri-La, Ortigas, Mandaluyong City, Ma...</td>\n",
       "      <td>121.056831</td>\n",
       "      <td>14.581404</td>\n",
       "      <td>Seafood, Asian, Filipino, Indian</td>\n",
       "      <td>...</td>\n",
       "      <td>Yes</td>\n",
       "      <td>No</td>\n",
       "      <td>No</td>\n",
       "      <td>No</td>\n",
       "      <td>4</td>\n",
       "      <td>4.4</td>\n",
       "      <td>Green</td>\n",
       "      <td>Very Good</td>\n",
       "      <td>270</td>\n",
       "      <td>Phillipines</td>\n",
       "    </tr>\n",
       "    <tr>\n",
       "      <th>3</th>\n",
       "      <td>6318506</td>\n",
       "      <td>Ooma</td>\n",
       "      <td>162</td>\n",
       "      <td>Mandaluyong City</td>\n",
       "      <td>Third Floor, Mega Fashion Hall, SM Megamall, O...</td>\n",
       "      <td>SM Megamall, Ortigas, Mandaluyong City</td>\n",
       "      <td>SM Megamall, Ortigas, Mandaluyong City, Mandal...</td>\n",
       "      <td>121.056475</td>\n",
       "      <td>14.585318</td>\n",
       "      <td>Japanese, Sushi</td>\n",
       "      <td>...</td>\n",
       "      <td>No</td>\n",
       "      <td>No</td>\n",
       "      <td>No</td>\n",
       "      <td>No</td>\n",
       "      <td>4</td>\n",
       "      <td>4.9</td>\n",
       "      <td>Dark Green</td>\n",
       "      <td>Excellent</td>\n",
       "      <td>365</td>\n",
       "      <td>Phillipines</td>\n",
       "    </tr>\n",
       "    <tr>\n",
       "      <th>4</th>\n",
       "      <td>6314302</td>\n",
       "      <td>Sambo Kojin</td>\n",
       "      <td>162</td>\n",
       "      <td>Mandaluyong City</td>\n",
       "      <td>Third Floor, Mega Atrium, SM Megamall, Ortigas...</td>\n",
       "      <td>SM Megamall, Ortigas, Mandaluyong City</td>\n",
       "      <td>SM Megamall, Ortigas, Mandaluyong City, Mandal...</td>\n",
       "      <td>121.057508</td>\n",
       "      <td>14.584450</td>\n",
       "      <td>Japanese, Korean</td>\n",
       "      <td>...</td>\n",
       "      <td>Yes</td>\n",
       "      <td>No</td>\n",
       "      <td>No</td>\n",
       "      <td>No</td>\n",
       "      <td>4</td>\n",
       "      <td>4.8</td>\n",
       "      <td>Dark Green</td>\n",
       "      <td>Excellent</td>\n",
       "      <td>229</td>\n",
       "      <td>Phillipines</td>\n",
       "    </tr>\n",
       "  </tbody>\n",
       "</table>\n",
       "<p>5 rows × 22 columns</p>\n",
       "</div>"
      ],
      "text/plain": [
       "   Restaurant ID         Restaurant Name  Country Code              City  \\\n",
       "0        6317637        Le Petit Souffle           162       Makati City   \n",
       "1        6304287        Izakaya Kikufuji           162       Makati City   \n",
       "2        6300002  Heat - Edsa Shangri-La           162  Mandaluyong City   \n",
       "3        6318506                    Ooma           162  Mandaluyong City   \n",
       "4        6314302             Sambo Kojin           162  Mandaluyong City   \n",
       "\n",
       "                                             Address  \\\n",
       "0  Third Floor, Century City Mall, Kalayaan Avenu...   \n",
       "1  Little Tokyo, 2277 Chino Roces Avenue, Legaspi...   \n",
       "2  Edsa Shangri-La, 1 Garden Way, Ortigas, Mandal...   \n",
       "3  Third Floor, Mega Fashion Hall, SM Megamall, O...   \n",
       "4  Third Floor, Mega Atrium, SM Megamall, Ortigas...   \n",
       "\n",
       "                                     Locality  \\\n",
       "0   Century City Mall, Poblacion, Makati City   \n",
       "1  Little Tokyo, Legaspi Village, Makati City   \n",
       "2  Edsa Shangri-La, Ortigas, Mandaluyong City   \n",
       "3      SM Megamall, Ortigas, Mandaluyong City   \n",
       "4      SM Megamall, Ortigas, Mandaluyong City   \n",
       "\n",
       "                                    Locality Verbose   Longitude   Latitude  \\\n",
       "0  Century City Mall, Poblacion, Makati City, Mak...  121.027535  14.565443   \n",
       "1  Little Tokyo, Legaspi Village, Makati City, Ma...  121.014101  14.553708   \n",
       "2  Edsa Shangri-La, Ortigas, Mandaluyong City, Ma...  121.056831  14.581404   \n",
       "3  SM Megamall, Ortigas, Mandaluyong City, Mandal...  121.056475  14.585318   \n",
       "4  SM Megamall, Ortigas, Mandaluyong City, Mandal...  121.057508  14.584450   \n",
       "\n",
       "                           Cuisines  ...  Has Table booking  \\\n",
       "0        French, Japanese, Desserts  ...                Yes   \n",
       "1                          Japanese  ...                Yes   \n",
       "2  Seafood, Asian, Filipino, Indian  ...                Yes   \n",
       "3                   Japanese, Sushi  ...                 No   \n",
       "4                  Japanese, Korean  ...                Yes   \n",
       "\n",
       "  Has Online delivery Is delivering now Switch to order menu Price range  \\\n",
       "0                  No                No                   No           3   \n",
       "1                  No                No                   No           3   \n",
       "2                  No                No                   No           4   \n",
       "3                  No                No                   No           4   \n",
       "4                  No                No                   No           4   \n",
       "\n",
       "  Aggregate rating  Rating color  Rating text Votes      Country  \n",
       "0              4.8    Dark Green    Excellent   314  Phillipines  \n",
       "1              4.5    Dark Green    Excellent   591  Phillipines  \n",
       "2              4.4         Green    Very Good   270  Phillipines  \n",
       "3              4.9    Dark Green    Excellent   365  Phillipines  \n",
       "4              4.8    Dark Green    Excellent   229  Phillipines  \n",
       "\n",
       "[5 rows x 22 columns]"
      ]
     },
     "execution_count": 2,
     "metadata": {},
     "output_type": "execute_result"
    }
   ],
   "source": [
    "df1 = pd.read_csv(\"zomato.csv\",encoding = \"ISO-8859-1\")\n",
    "df2 = pd.read_excel(\"Country-Code.xlsx\")\n",
    "df = pd.merge(df1,df2)\n",
    "df.head()"
   ]
  },
  {
   "cell_type": "code",
   "execution_count": 3,
   "id": "3990ecc7",
   "metadata": {},
   "outputs": [
    {
     "data": {
      "text/plain": [
       "Restaurant ID           0\n",
       "Restaurant Name         0\n",
       "Country Code            0\n",
       "City                    0\n",
       "Address                 0\n",
       "Locality                0\n",
       "Locality Verbose        0\n",
       "Longitude               0\n",
       "Latitude                0\n",
       "Cuisines                9\n",
       "Average Cost for two    0\n",
       "Currency                0\n",
       "Has Table booking       0\n",
       "Has Online delivery     0\n",
       "Is delivering now       0\n",
       "Switch to order menu    0\n",
       "Price range             0\n",
       "Aggregate rating        0\n",
       "Rating color            0\n",
       "Rating text             0\n",
       "Votes                   0\n",
       "Country                 0\n",
       "dtype: int64"
      ]
     },
     "execution_count": 3,
     "metadata": {},
     "output_type": "execute_result"
    }
   ],
   "source": [
    "# looking for null values\n",
    "df.isnull().sum()"
   ]
  },
  {
   "cell_type": "code",
   "execution_count": 4,
   "id": "15b884d5",
   "metadata": {},
   "outputs": [
    {
     "name": "stdout",
     "output_type": "stream",
     "text": [
      "<class 'pandas.core.frame.DataFrame'>\n",
      "Int64Index: 9551 entries, 0 to 9550\n",
      "Data columns (total 22 columns):\n",
      " #   Column                Non-Null Count  Dtype  \n",
      "---  ------                --------------  -----  \n",
      " 0   Restaurant ID         9551 non-null   int64  \n",
      " 1   Restaurant Name       9551 non-null   object \n",
      " 2   Country Code          9551 non-null   int64  \n",
      " 3   City                  9551 non-null   object \n",
      " 4   Address               9551 non-null   object \n",
      " 5   Locality              9551 non-null   object \n",
      " 6   Locality Verbose      9551 non-null   object \n",
      " 7   Longitude             9551 non-null   float64\n",
      " 8   Latitude              9551 non-null   float64\n",
      " 9   Cuisines              9542 non-null   object \n",
      " 10  Average Cost for two  9551 non-null   int64  \n",
      " 11  Currency              9551 non-null   object \n",
      " 12  Has Table booking     9551 non-null   object \n",
      " 13  Has Online delivery   9551 non-null   object \n",
      " 14  Is delivering now     9551 non-null   object \n",
      " 15  Switch to order menu  9551 non-null   object \n",
      " 16  Price range           9551 non-null   int64  \n",
      " 17  Aggregate rating      9551 non-null   float64\n",
      " 18  Rating color          9551 non-null   object \n",
      " 19  Rating text           9551 non-null   object \n",
      " 20  Votes                 9551 non-null   int64  \n",
      " 21  Country               9551 non-null   object \n",
      "dtypes: float64(3), int64(5), object(14)\n",
      "memory usage: 1.7+ MB\n"
     ]
    }
   ],
   "source": [
    "df.info()"
   ]
  },
  {
   "cell_type": "markdown",
   "id": "5efb2fa5",
   "metadata": {},
   "source": [
    "Observation: \n",
    "\n",
    "Total columns = 22\n",
    "3 - float columns\n",
    "5 - int columns\n",
    "14 - object columns\n",
    "9 null values in the Cuisines column"
   ]
  },
  {
   "cell_type": "code",
   "execution_count": 5,
   "id": "94d415e0",
   "metadata": {},
   "outputs": [
    {
     "name": "stdout",
     "output_type": "stream",
     "text": [
      "Column:Restaurant ID\n",
      "Number of unique values:9551\n",
      "Unique values and counts:\n",
      "6317637     1\n",
      "18254520    1\n",
      "18462589    1\n",
      "18336474    1\n",
      "18336477    1\n",
      "           ..\n",
      "313059      1\n",
      "763         1\n",
      "7557        1\n",
      "525         1\n",
      "5927402     1\n",
      "Name: Restaurant ID, Length: 9551, dtype: int64\n",
      "--------------------------------------------------\n",
      "\n",
      "Column:Restaurant Name\n",
      "Number of unique values:7446\n",
      "Unique values and counts:\n",
      "Cafe Coffee Day             83\n",
      "Domino's Pizza              79\n",
      "Subway                      63\n",
      "Green Chick Chop            51\n",
      "McDonald's                  48\n",
      "                            ..\n",
      "Odeon Social                 1\n",
      "Johnny Rockets               1\n",
      "House of Commons             1\n",
      "HotMess                      1\n",
      "Walter's Coffee Roastery     1\n",
      "Name: Restaurant Name, Length: 7446, dtype: int64\n",
      "--------------------------------------------------\n",
      "\n",
      "Column:Country Code\n",
      "Number of unique values:15\n",
      "Unique values and counts:\n",
      "1      8652\n",
      "216     434\n",
      "215      80\n",
      "30       60\n",
      "214      60\n",
      "189      60\n",
      "148      40\n",
      "208      34\n",
      "14       24\n",
      "162      22\n",
      "94       21\n",
      "184      20\n",
      "166      20\n",
      "191      20\n",
      "37        4\n",
      "Name: Country Code, dtype: int64\n",
      "--------------------------------------------------\n",
      "\n",
      "Column:City\n",
      "Number of unique values:141\n",
      "Unique values and counts:\n",
      "New Delhi       5473\n",
      "Gurgaon         1118\n",
      "Noida           1080\n",
      "Faridabad        251\n",
      "Ghaziabad         25\n",
      "                ... \n",
      "Huskisson          1\n",
      "Panchkula          1\n",
      "Forrest            1\n",
      "Flaxton            1\n",
      "Chatham-Kent       1\n",
      "Name: City, Length: 141, dtype: int64\n",
      "--------------------------------------------------\n",
      "\n",
      "Column:Address\n",
      "Number of unique values:8918\n",
      "Unique values and counts:\n",
      "Sector 41, Noida                                                                         11\n",
      "Dilli Haat, INA, New Delhi                                                               11\n",
      "Greater Kailash (GK) 1, New Delhi                                                        10\n",
      "The Imperial, Janpath, New Delhi                                                          9\n",
      "Palate of Delhi, Dhaula Kuan Metro Station, Chanakyapuri, New Delhi                       8\n",
      "                                                                                         ..\n",
      "23-24, Defence Colony Market, Defence Colony, New Delhi                                   1\n",
      "28, Main Market, Defence Colony, New Delhi                                                1\n",
      "Daryaganj, New Delhi                                                                      1\n",
      "Ground Floor, E-23, Netaji Subhash Marg, Opposite Golcha Cinema, Daryaganj, New Delhi     1\n",
      "Cafeaï¿½ï¿½a Mahallesi, BademaltÛ± Sokak, No 21/B, KadÛ±kï¿½_y, ï¿½ï¿½stanbul             1\n",
      "Name: Address, Length: 8918, dtype: int64\n",
      "--------------------------------------------------\n",
      "\n",
      "Column:Locality\n",
      "Number of unique values:1208\n",
      "Unique values and counts:\n",
      "Connaught Place                                122\n",
      "Rajouri Garden                                  99\n",
      "Shahdara                                        87\n",
      "Defence Colony                                  86\n",
      "Pitampura                                       85\n",
      "                                              ... \n",
      "Lemon Tree Premier, Sector 29                    1\n",
      "Omaxe Celebration Mall, Sohna Road, Gurgaon      1\n",
      "Park Inn, Sector 15, Gurgaon                     1\n",
      "Plaza Mall, MG Road                              1\n",
      "Moda                                             1\n",
      "Name: Locality, Length: 1208, dtype: int64\n",
      "--------------------------------------------------\n",
      "\n",
      "Column:Locality Verbose\n",
      "Number of unique values:1265\n",
      "Unique values and counts:\n",
      "Connaught Place, New Delhi                    122\n",
      "Rajouri Garden, New Delhi                      99\n",
      "Shahdara, New Delhi                            87\n",
      "Defence Colony, New Delhi                      86\n",
      "Pitampura, New Delhi                           85\n",
      "                                             ... \n",
      "Ramada Gurgaon Central, Sector 44, Gurgaon      1\n",
      "Sector 5, Gurgaon                               1\n",
      "Sector 53, Gurgaon                              1\n",
      "The Claremont, MG Road, Gurgaon                 1\n",
      "Moda, ï¿½ï¿½stanbul                             1\n",
      "Name: Locality Verbose, Length: 1265, dtype: int64\n",
      "--------------------------------------------------\n",
      "\n",
      "Column:Longitude\n",
      "Number of unique values:8120\n",
      "Unique values and counts:\n",
      "0.000000     498\n",
      "77.353663     19\n",
      "77.230412     12\n",
      "77.088688     10\n",
      "77.251426      9\n",
      "            ... \n",
      "77.227294      1\n",
      "77.225420      1\n",
      "77.230347      1\n",
      "77.230578      1\n",
      "29.026016      1\n",
      "Name: Longitude, Length: 8120, dtype: int64\n",
      "--------------------------------------------------\n",
      "\n",
      "Column:Latitude\n",
      "Number of unique values:8677\n",
      "Unique values and counts:\n",
      "0.000000     498\n",
      "28.574309     16\n",
      "28.574300      9\n",
      "28.551456      9\n",
      "28.597103      8\n",
      "            ... \n",
      "28.645175      1\n",
      "28.646194      1\n",
      "28.648280      1\n",
      "28.643514      1\n",
      "40.984776      1\n",
      "Name: Latitude, Length: 8677, dtype: int64\n",
      "--------------------------------------------------\n",
      "\n",
      "Column:Cuisines\n",
      "Number of unique values:1825\n",
      "Unique values and counts:\n",
      "North Indian                                             936\n",
      "North Indian, Chinese                                    511\n",
      "Chinese                                                  354\n",
      "Fast Food                                                354\n",
      "North Indian, Mughlai                                    334\n",
      "                                                        ... \n",
      "Bengali, Fast Food                                         1\n",
      "North Indian, Rajasthani, Asian                            1\n",
      "Chinese, Thai, Malaysian, Indonesian                       1\n",
      "Bakery, Desserts, North Indian, Bengali, South Indian      1\n",
      "Italian, World Cuisine                                     1\n",
      "Name: Cuisines, Length: 1825, dtype: int64\n",
      "--------------------------------------------------\n",
      "\n",
      "Column:Average Cost for two\n",
      "Number of unique values:140\n",
      "Unique values and counts:\n",
      "500       900\n",
      "300       897\n",
      "400       857\n",
      "200       687\n",
      "600       652\n",
      "         ... \n",
      "8000        1\n",
      "2350        1\n",
      "150000      1\n",
      "70000       1\n",
      "545         1\n",
      "Name: Average Cost for two, Length: 140, dtype: int64\n",
      "--------------------------------------------------\n",
      "\n",
      "Column:Currency\n",
      "Number of unique values:12\n",
      "Unique values and counts:\n",
      "Indian Rupees(Rs.)        8652\n",
      "Dollar($)                  482\n",
      "Pounds(ï¿½ï¿½)              80\n",
      "Brazilian Real(R$)          60\n",
      "Emirati Diram(AED)          60\n",
      "Rand(R)                     60\n",
      "NewZealand($)               40\n",
      "Turkish Lira(TL)            34\n",
      "Botswana Pula(P)            22\n",
      "Indonesian Rupiah(IDR)      21\n",
      "Qatari Rial(QR)             20\n",
      "Sri Lankan Rupee(LKR)       20\n",
      "Name: Currency, dtype: int64\n",
      "--------------------------------------------------\n",
      "\n",
      "Column:Has Table booking\n",
      "Number of unique values:2\n",
      "Unique values and counts:\n",
      "No     8393\n",
      "Yes    1158\n",
      "Name: Has Table booking, dtype: int64\n",
      "--------------------------------------------------\n",
      "\n",
      "Column:Has Online delivery\n",
      "Number of unique values:2\n",
      "Unique values and counts:\n",
      "No     7100\n",
      "Yes    2451\n",
      "Name: Has Online delivery, dtype: int64\n",
      "--------------------------------------------------\n",
      "\n",
      "Column:Is delivering now\n",
      "Number of unique values:2\n",
      "Unique values and counts:\n",
      "No     9517\n",
      "Yes      34\n",
      "Name: Is delivering now, dtype: int64\n",
      "--------------------------------------------------\n",
      "\n",
      "Column:Switch to order menu\n",
      "Number of unique values:1\n",
      "Unique values and counts:\n",
      "No    9551\n",
      "Name: Switch to order menu, dtype: int64\n",
      "--------------------------------------------------\n",
      "\n",
      "Column:Price range\n",
      "Number of unique values:4\n",
      "Unique values and counts:\n",
      "1    4444\n",
      "2    3113\n",
      "3    1408\n",
      "4     586\n",
      "Name: Price range, dtype: int64\n",
      "--------------------------------------------------\n",
      "\n",
      "Column:Aggregate rating\n",
      "Number of unique values:33\n",
      "Unique values and counts:\n",
      "0.0    2148\n",
      "3.2     522\n",
      "3.1     519\n",
      "3.4     498\n",
      "3.3     483\n",
      "3.5     480\n",
      "3.0     468\n",
      "3.6     458\n",
      "3.7     427\n",
      "3.8     400\n",
      "2.9     381\n",
      "3.9     335\n",
      "2.8     315\n",
      "4.1     274\n",
      "4.0     266\n",
      "2.7     250\n",
      "4.2     221\n",
      "2.6     191\n",
      "4.3     174\n",
      "4.4     144\n",
      "2.5     110\n",
      "4.5      95\n",
      "2.4      87\n",
      "4.6      78\n",
      "4.9      61\n",
      "2.3      47\n",
      "4.7      42\n",
      "2.2      27\n",
      "4.8      25\n",
      "2.1      15\n",
      "2.0       7\n",
      "1.9       2\n",
      "1.8       1\n",
      "Name: Aggregate rating, dtype: int64\n",
      "--------------------------------------------------\n",
      "\n",
      "Column:Rating color\n",
      "Number of unique values:6\n",
      "Unique values and counts:\n",
      "Orange        3737\n",
      "White         2148\n",
      "Yellow        2100\n",
      "Green         1079\n",
      "Dark Green     301\n",
      "Red            186\n",
      "Name: Rating color, dtype: int64\n",
      "--------------------------------------------------\n",
      "\n",
      "Column:Rating text\n",
      "Number of unique values:6\n",
      "Unique values and counts:\n",
      "Average      3737\n",
      "Not rated    2148\n",
      "Good         2100\n",
      "Very Good    1079\n",
      "Excellent     301\n",
      "Poor          186\n",
      "Name: Rating text, dtype: int64\n",
      "--------------------------------------------------\n",
      "\n",
      "Column:Votes\n",
      "Number of unique values:1012\n",
      "Unique values and counts:\n",
      "0      1094\n",
      "1       483\n",
      "2       327\n",
      "3       244\n",
      "4       207\n",
      "       ... \n",
      "538       1\n",
      "823       1\n",
      "650       1\n",
      "660       1\n",
      "901       1\n",
      "Name: Votes, Length: 1012, dtype: int64\n",
      "--------------------------------------------------\n",
      "\n",
      "Column:Country\n",
      "Number of unique values:15\n",
      "Unique values and counts:\n",
      "India             8652\n",
      "United States      434\n",
      "United Kingdom      80\n",
      "Brazil              60\n",
      "UAE                 60\n",
      "South Africa        60\n",
      "New Zealand         40\n",
      "Turkey              34\n",
      "Australia           24\n",
      "Phillipines         22\n",
      "Indonesia           21\n",
      "Singapore           20\n",
      "Qatar               20\n",
      "Sri Lanka           20\n",
      "Canada               4\n",
      "Name: Country, dtype: int64\n",
      "--------------------------------------------------\n",
      "\n"
     ]
    }
   ],
   "source": [
    "# looking at the unique values of the columns\n",
    "for i in df:\n",
    "    print (f\"Column:{i}\\nNumber of unique values:{df[i].nunique()}\\nUnique values and counts:\\n{df[i].value_counts()}\" + '\\n' +\n",
    "           '-'*50+'\\n')"
   ]
  },
  {
   "cell_type": "code",
   "execution_count": 6,
   "id": "d401402c",
   "metadata": {},
   "outputs": [],
   "source": [
    "# dropping the above mentioned columns\n",
    "df = df.drop(df[['Restaurant ID','Locality','Locality Verbose','Address','Switch to order menu','Rating color','Votes']],axis=1)"
   ]
  },
  {
   "cell_type": "code",
   "execution_count": 7,
   "id": "2dfbcfaf",
   "metadata": {},
   "outputs": [
    {
     "data": {
      "text/plain": [
       "Index(['Restaurant Name', 'Country Code', 'City', 'Longitude', 'Latitude',\n",
       "       'Cuisines', 'Average Cost for two', 'Currency', 'Has Table booking',\n",
       "       'Has Online delivery', 'Is delivering now', 'Price range',\n",
       "       'Aggregate rating', 'Rating text', 'Country'],\n",
       "      dtype='object')"
      ]
     },
     "execution_count": 7,
     "metadata": {},
     "output_type": "execute_result"
    }
   ],
   "source": [
    "df.columns"
   ]
  },
  {
   "cell_type": "code",
   "execution_count": 8,
   "id": "e008dc35",
   "metadata": {},
   "outputs": [
    {
     "name": "stdout",
     "output_type": "stream",
     "text": [
      "140 \n",
      " [3 4 2 1]\n"
     ]
    }
   ],
   "source": [
    "# understanding the target variables\n",
    "print(df['Average Cost for two'].nunique(),'\\n',\n",
    "     df['Price range'].unique())"
   ]
  },
  {
   "cell_type": "code",
   "execution_count": 9,
   "id": "283098a7",
   "metadata": {},
   "outputs": [
    {
     "name": "stdout",
     "output_type": "stream",
     "text": [
      "<class 'pandas.core.frame.DataFrame'>\n",
      "Int64Index: 9551 entries, 0 to 9550\n",
      "Data columns (total 15 columns):\n",
      " #   Column                Non-Null Count  Dtype  \n",
      "---  ------                --------------  -----  \n",
      " 0   Restaurant Name       9551 non-null   object \n",
      " 1   Country Code          9551 non-null   int64  \n",
      " 2   City                  9551 non-null   object \n",
      " 3   Longitude             9551 non-null   float64\n",
      " 4   Latitude              9551 non-null   float64\n",
      " 5   Cuisines              9542 non-null   object \n",
      " 6   Average Cost for two  9551 non-null   int64  \n",
      " 7   Currency              9551 non-null   object \n",
      " 8   Has Table booking     9551 non-null   object \n",
      " 9   Has Online delivery   9551 non-null   object \n",
      " 10  Is delivering now     9551 non-null   object \n",
      " 11  Price range           9551 non-null   int64  \n",
      " 12  Aggregate rating      9551 non-null   float64\n",
      " 13  Rating text           9551 non-null   object \n",
      " 14  Country               9551 non-null   object \n",
      "dtypes: float64(3), int64(3), object(9)\n",
      "memory usage: 1.2+ MB\n"
     ]
    }
   ],
   "source": [
    "df.info()"
   ]
  },
  {
   "cell_type": "markdown",
   "id": "e7e3d7a0",
   "metadata": {},
   "source": [
    "# Data Visualization"
   ]
  },
  {
   "cell_type": "code",
   "execution_count": 12,
   "id": "600e0e12",
   "metadata": {},
   "outputs": [
    {
     "data": {
      "image/png": "[encoded data removed]",
      "text/plain": [
       "<Figure size 864x432 with 1 Axes>"
      ]
     },
     "metadata": {
      "needs_background": "light"
     },
     "output_type": "display_data"
    }
   ],
   "source": [
    "# plottin gthe price ranges with respect to the country\n",
    "plt.figure(figsize=(12,6))\n",
    "sns.lineplot(x=\"Country\",y='Price range',data=df)\n",
    "plt.xticks(rotation=30)\n",
    "plt.show()"
   ]
  },
  {
   "cell_type": "code",
   "execution_count": 13,
   "id": "35b92319",
   "metadata": {},
   "outputs": [
    {
     "data": {
      "image/png": "[encoded data removed]",
      "text/plain": [
       "<Figure size 864x432 with 1 Axes>"
      ]
     },
     "metadata": {
      "needs_background": "light"
     },
     "output_type": "display_data"
    }
   ],
   "source": [
    "# plotting average cost for two with respect to the country\n",
    "plt.figure(figsize=(12,6))\n",
    "sns.lineplot(x=\"Country\",y='Average Cost for two',data=df, palette='g')\n",
    "plt.xticks(rotation=30)\n",
    "plt.show()"
   ]
  },
  {
   "cell_type": "code",
   "execution_count": 14,
   "id": "eb438926",
   "metadata": {},
   "outputs": [
    {
     "data": {
      "image/png": "[encoded data removed]",
      "text/plain": [
       "<Figure size 864x432 with 1 Axes>"
      ]
     },
     "metadata": {
      "needs_background": "light"
     },
     "output_type": "display_data"
    }
   ],
   "source": [
    "plt.figure(figsize=(12,6))\n",
    "sns.barplot(x=df['Rating text'],y=df['Average Cost for two'],hue=df['Price range'])\n",
    "plt.show()\n"
   ]
  },
  {
   "cell_type": "markdown",
   "id": "fcac05d7",
   "metadata": {},
   "source": [
    "# Outliers, Skewness and VIF"
   ]
  },
  {
   "cell_type": "code",
   "execution_count": 15,
   "id": "8e6ee29c",
   "metadata": {},
   "outputs": [
    {
     "data": {
      "image/png": "[encoded data removed]",
      "text/plain": [
       "<Figure size 864x288 with 6 Axes>"
      ]
     },
     "metadata": {
      "needs_background": "light"
     },
     "output_type": "display_data"
    }
   ],
   "source": [
    "# outliers\n",
    "num_feats = [i for i in df if df[i].dtypes!='O']\n",
    "collist = df[num_feats].columns.values\n",
    "nrows = 2\n",
    "ncols = 6\n",
    "\n",
    "plt.figure(figsize=(12,4))\n",
    "for i in range(0,len(collist)):\n",
    "    plt.subplot(nrows,ncols,i+1)\n",
    "    sns.boxplot(data=df[collist[i]],orient='v')\n",
    "    plt.title(collist[i])\n",
    "    plt.tight_layout()\n"
   ]
  },
  {
   "cell_type": "code",
   "execution_count": 16,
   "id": "4e70bb20",
   "metadata": {},
   "outputs": [
    {
     "data": {
      "image/png": "[encoded data removed]",
      "text/plain": [
       "<Figure size 864x288 with 6 Axes>"
      ]
     },
     "metadata": {
      "needs_background": "light"
     },
     "output_type": "display_data"
    }
   ],
   "source": [
    "# skewness\n",
    "collist = df[num_feats].columns.values\n",
    "nrows = 2\n",
    "ncols = 4\n",
    "\n",
    "plt.figure(figsize=(12,4))\n",
    "for i in range(0,len(collist)):\n",
    "    plt.subplot(nrows,ncols,i+1)\n",
    "    sns.kdeplot(data=df[collist[i]])\n",
    "    plt.title(collist[i])\n",
    "    plt.tight_layout()"
   ]
  },
  {
   "cell_type": "code",
   "execution_count": 17,
   "id": "95e79300",
   "metadata": {},
   "outputs": [
    {
     "name": "stdout",
     "output_type": "stream",
     "text": [
      "Percentage of data loss = 8.753010156004606 %\n"
     ]
    }
   ],
   "source": [
    "#applying zscore to remove outliers\n",
    "from scipy.stats import zscore\n",
    "z = np.abs(zscore(df[num_feats]))\n",
    "df_new = df.copy()\n",
    "df_new = df.loc[(z<3).all(axis=1)]\n",
    "print (\"Percentage of data loss =\",(df.shape[0]-df_new.shape[0])/df.shape[0]*100,'%')"
   ]
  },
  {
   "cell_type": "code",
   "execution_count": 18,
   "id": "7485825d",
   "metadata": {},
   "outputs": [
    {
     "name": "stdout",
     "output_type": "stream",
     "text": [
      "Percentage of data loss = 47.10501518165637 %\n"
     ]
    }
   ],
   "source": [
    "Q1 = df.quantile(0.25)\n",
    "Q3 = df.quantile(0.75)\n",
    "IQR = Q3 - Q1\n",
    "df_IQR = df[~((df < (Q1 - 1.5 * IQR)) |(df > (Q3 + 1.5 * IQR))).any(axis=1)]\n",
    "print (\"Percentage of data loss =\",(df.shape[0]-df_IQR.shape[0])/df.shape[0]*100,'%')"
   ]
  },
  {
   "cell_type": "code",
   "execution_count": 19,
   "id": "b85ade4a",
   "metadata": {},
   "outputs": [
    {
     "data": {
      "image/png": "[encoded data removed]",
      "text/plain": [
       "<Figure size 864x288 with 6 Axes>"
      ]
     },
     "metadata": {
      "needs_background": "light"
     },
     "output_type": "display_data"
    }
   ],
   "source": [
    "# outliers after zscore\n",
    "collist = df_new[num_feats].columns.values\n",
    "nrows = 2\n",
    "ncols = 5\n",
    "\n",
    "plt.figure(figsize=(12,4))\n",
    "for i in range(0,len(collist)):\n",
    "    plt.subplot(nrows,ncols,i+1)\n",
    "    sns.boxplot(data=df_new[collist[i]],orient='v')\n",
    "    plt.title(collist[i])\n",
    "    plt.tight_layout()"
   ]
  },
  {
   "cell_type": "code",
   "execution_count": 20,
   "id": "8ec1fdb7",
   "metadata": {},
   "outputs": [
    {
     "name": "stdout",
     "output_type": "stream",
     "text": [
      "<class 'pandas.core.frame.DataFrame'>\n",
      "Int64Index: 8715 entries, 0 to 9436\n",
      "Data columns (total 15 columns):\n",
      " #   Column                Non-Null Count  Dtype  \n",
      "---  ------                --------------  -----  \n",
      " 0   Restaurant Name       8715 non-null   int32  \n",
      " 1   Country Code          8715 non-null   int64  \n",
      " 2   City                  8715 non-null   int32  \n",
      " 3   Longitude             8715 non-null   float64\n",
      " 4   Latitude              8715 non-null   float64\n",
      " 5   Cuisines              8715 non-null   int32  \n",
      " 6   Average Cost for two  8715 non-null   int64  \n",
      " 7   Currency              8715 non-null   int32  \n",
      " 8   Has Table booking     8715 non-null   int32  \n",
      " 9   Has Online delivery   8715 non-null   int32  \n",
      " 10  Is delivering now     8715 non-null   int32  \n",
      " 11  Price range           8715 non-null   int64  \n",
      " 12  Aggregate rating      8715 non-null   float64\n",
      " 13  Rating text           8715 non-null   int32  \n",
      " 14  Country               8715 non-null   int32  \n",
      "dtypes: float64(3), int32(9), int64(3)\n",
      "memory usage: 1.0 MB\n"
     ]
    }
   ],
   "source": [
    "# label encoding variables\n",
    "from sklearn.preprocessing import LabelEncoder\n",
    "for i in df_new:\n",
    "    if df_new[i].dtypes=='O':\n",
    "        df_new[i] = LabelEncoder().fit_transform(df_new[i].values)\n",
    "df_new.info()"
   ]
  },
  {
   "cell_type": "code",
   "execution_count": 21,
   "id": "df7c6aab",
   "metadata": {},
   "outputs": [
    {
     "data": {
      "text/html": [
       "<div>\n",
       "<style scoped>\n",
       "    .dataframe tbody tr th:only-of-type {\n",
       "        vertical-align: middle;\n",
       "    }\n",
       "\n",
       "    .dataframe tbody tr th {\n",
       "        vertical-align: top;\n",
       "    }\n",
       "\n",
       "    .dataframe thead th {\n",
       "        text-align: right;\n",
       "    }\n",
       "</style>\n",
       "<table border=\"1\" class=\"dataframe\">\n",
       "  <thead>\n",
       "    <tr style=\"text-align: right;\">\n",
       "      <th></th>\n",
       "      <th>Columns</th>\n",
       "      <th>VIF_Factor</th>\n",
       "    </tr>\n",
       "  </thead>\n",
       "  <tbody>\n",
       "    <tr>\n",
       "      <th>1</th>\n",
       "      <td>Country Code</td>\n",
       "      <td>21.047179</td>\n",
       "    </tr>\n",
       "    <tr>\n",
       "      <th>2</th>\n",
       "      <td>City</td>\n",
       "      <td>13.072858</td>\n",
       "    </tr>\n",
       "    <tr>\n",
       "      <th>3</th>\n",
       "      <td>Longitude</td>\n",
       "      <td>100.167537</td>\n",
       "    </tr>\n",
       "    <tr>\n",
       "      <th>4</th>\n",
       "      <td>Latitude</td>\n",
       "      <td>98.153563</td>\n",
       "    </tr>\n",
       "    <tr>\n",
       "      <th>7</th>\n",
       "      <td>Currency</td>\n",
       "      <td>40.416403</td>\n",
       "    </tr>\n",
       "    <tr>\n",
       "      <th>11</th>\n",
       "      <td>Price range</td>\n",
       "      <td>20.090098</td>\n",
       "    </tr>\n",
       "    <tr>\n",
       "      <th>14</th>\n",
       "      <td>Country</td>\n",
       "      <td>20.274269</td>\n",
       "    </tr>\n",
       "  </tbody>\n",
       "</table>\n",
       "</div>"
      ],
      "text/plain": [
       "         Columns  VIF_Factor\n",
       "1   Country Code   21.047179\n",
       "2           City   13.072858\n",
       "3      Longitude  100.167537\n",
       "4       Latitude   98.153563\n",
       "7       Currency   40.416403\n",
       "11   Price range   20.090098\n",
       "14       Country   20.274269"
      ]
     },
     "execution_count": 21,
     "metadata": {},
     "output_type": "execute_result"
    }
   ],
   "source": [
    "# VIF\n",
    "from statsmodels.stats.outliers_influence import variance_inflation_factor\n",
    "VIF = pd.DataFrame()\n",
    "VIF['Columns'] = df_new.columns\n",
    "VIF['VIF_Factor'] = [variance_inflation_factor(df_new.values,i) for i in range(df_new.shape[1])]\n",
    "VIF[VIF.VIF_Factor>10]"
   ]
  },
  {
   "cell_type": "code",
   "execution_count": 22,
   "id": "71c8a85f",
   "metadata": {},
   "outputs": [],
   "source": [
    "# dropping the latitude an longitude columns\n",
    "df_new = df_new.drop(df_new[['Longitude','Latitude']],axis=1)"
   ]
  },
  {
   "cell_type": "markdown",
   "id": "d4fdf085",
   "metadata": {},
   "source": [
    "# Splitting into x & y for Regression"
   ]
  },
  {
   "cell_type": "code",
   "execution_count": 23,
   "id": "c89ce74b",
   "metadata": {},
   "outputs": [],
   "source": [
    "X = df_new.drop(\"Average Cost for two\",axis=1)\n",
    "Y = df_new['Average Cost for two']"
   ]
  },
  {
   "cell_type": "code",
   "execution_count": 24,
   "id": "d0d21b4a",
   "metadata": {},
   "outputs": [],
   "source": [
    "#scaling and transforming\n",
    "from sklearn.preprocessing import StandardScaler, power_transform\n",
    "X = StandardScaler().fit_transform(X)\n",
    "X = power_transform(X,method='yeo-johnson')"
   ]
  },
  {
   "cell_type": "code",
   "execution_count": 25,
   "id": "315f5839",
   "metadata": {},
   "outputs": [],
   "source": [
    "from sklearn.model_selection import train_test_split\n",
    "X_train, X_test,Y_train,Y_test = train_test_split(X,Y,test_size=0.25)"
   ]
  },
  {
   "cell_type": "markdown",
   "id": "61116829",
   "metadata": {},
   "source": [
    "# Model Creation for Average Cost for two"
   ]
  },
  {
   "cell_type": "code",
   "execution_count": 26,
   "id": "fe15c4f4",
   "metadata": {},
   "outputs": [],
   "source": [
    "from sklearn.metrics import r2_score, mean_absolute_error, mean_squared_error\n",
    "\n",
    "model_name, r2, mse, mae, rmse, model_score= [],[],[],[],[],[]\n",
    "\n",
    "def regr(model):\n",
    "    model.fit(X_train,Y_train) #fitting the training data into the model\n",
    "    Y_pred = model.predict(X_test) #predicting the target variable\n",
    "    scoree = round(model.score(X_train,Y_train)*100,2) #score\n",
    "    r2_s = round(r2_score(Y_test,Y_pred)*100,2) \n",
    "    mae_ = mean_absolute_error(Y_test,Y_pred) \n",
    "    mse_ = mean_squared_error(Y_test,Y_pred)\n",
    "    rmse_ = mean_squared_error(Y_test,Y_pred,squared=False)\n",
    "    \n",
    "    print(\"Model:\",str(model).split('(')[0])\n",
    "    model_name.append(str(model).split('(')[0])\n",
    "    \n",
    "    print(\"Score:\",scoree)\n",
    "    model_score.append(scoree)\n",
    "    \n",
    "    print(\"R2 Score:\",r2_s)\n",
    "    r2.append(r2_s)\n",
    "    \n",
    "    print(\"MAE:\",mae_)\n",
    "    mae.append(mae_)\n",
    "    \n",
    "    print(\"MSE:\",mse_)\n",
    "    mse.append(mse_)\n",
    "    \n",
    "    print(\"RMSE:\",rmse_)\n",
    "    rmse.append(rmse_)"
   ]
  },
  {
   "cell_type": "code",
   "execution_count": 27,
   "id": "21816ef1",
   "metadata": {},
   "outputs": [],
   "source": [
    "from sklearn.linear_model import LinearRegression\n",
    "from sklearn.ensemble import RandomForestRegressor, GradientBoostingRegressor, BaggingRegressor, AdaBoostRegressor\n",
    "from sklearn.tree import DecisionTreeRegressor, ExtraTreeRegressor\n",
    "from sklearn.neighbors import KNeighborsRegressor\n",
    "from sklearn.svm import SVR\n",
    "def run_regr():\n",
    "    models = [LinearRegression(),\n",
    "             SVR(), DecisionTreeRegressor(), ExtraTreeRegressor(),\n",
    "             KNeighborsRegressor(), GradientBoostingRegressor(),\n",
    "             BaggingRegressor(), AdaBoostRegressor(),RandomForestRegressor()]\n",
    "    for i in models:\n",
    "        regr(i), print('-'*50,'\\n')"
   ]
  },
  {
   "cell_type": "code",
   "execution_count": 28,
   "id": "5ffff009",
   "metadata": {},
   "outputs": [
    {
     "name": "stdout",
     "output_type": "stream",
     "text": [
      "Model: LinearRegression\n",
      "Score: 62.12\n",
      "R2 Score: 65.12\n",
      "MAE: 197.28240633227716\n",
      "MSE: 124908.18288492106\n",
      "RMSE: 353.42351773038683\n",
      "-------------------------------------------------- \n",
      "\n",
      "Model: SVR\n",
      "Score: 34.55\n",
      "R2 Score: 35.45\n",
      "MAE: 221.86561535628783\n",
      "MSE: 231127.17434119055\n",
      "RMSE: 480.7568765407215\n",
      "-------------------------------------------------- \n",
      "\n",
      "Model: DecisionTreeRegressor\n",
      "Score: 99.99\n",
      "R2 Score: 58.95\n",
      "MAE: 156.36759981642956\n",
      "MSE: 146990.8788435062\n",
      "RMSE: 383.3938951568037\n",
      "-------------------------------------------------- \n",
      "\n",
      "Model: ExtraTreeRegressor\n",
      "Score: 99.99\n",
      "R2 Score: 65.22\n",
      "MAE: 152.11794401101423\n",
      "MSE: 124516.6347967977\n",
      "RMSE: 352.8691468473798\n",
      "-------------------------------------------------- \n",
      "\n",
      "Model: KNeighborsRegressor\n",
      "Score: 80.91\n",
      "R2 Score: 72.5\n",
      "MAE: 156.5695273061037\n",
      "MSE: 98466.22441486921\n",
      "RMSE: 313.79328293459247\n",
      "-------------------------------------------------- \n",
      "\n",
      "Model: GradientBoostingRegressor\n",
      "Score: 86.32\n",
      "R2 Score: 83.97\n",
      "MAE: 130.47832362160833\n",
      "MSE: 57395.36423930255\n",
      "RMSE: 239.57329617322242\n",
      "-------------------------------------------------- \n",
      "\n",
      "Model: BaggingRegressor\n",
      "Score: 96.79\n",
      "R2 Score: 80.62\n",
      "MAE: 125.47051399724644\n",
      "MSE: 69409.78082772423\n",
      "RMSE: 263.45736054952846\n",
      "-------------------------------------------------- \n",
      "\n",
      "Model: AdaBoostRegressor\n",
      "Score: 78.29\n",
      "R2 Score: 73.0\n",
      "MAE: 163.1932682165756\n",
      "MSE: 96690.67019461084\n",
      "RMSE: 310.95123443172054\n",
      "-------------------------------------------------- \n",
      "\n",
      "Model: RandomForestRegressor\n",
      "Score: 97.74\n",
      "R2 Score: 80.99\n",
      "MAE: 123.43216043109916\n",
      "MSE: 68073.28060182816\n",
      "RMSE: 260.90856751327306\n",
      "-------------------------------------------------- \n",
      "\n"
     ]
    }
   ],
   "source": [
    "run_regr()"
   ]
  },
  {
   "cell_type": "code",
   "execution_count": 29,
   "id": "e8868082",
   "metadata": {},
   "outputs": [
    {
     "data": {
      "text/html": [
       "<div>\n",
       "<style scoped>\n",
       "    .dataframe tbody tr th:only-of-type {\n",
       "        vertical-align: middle;\n",
       "    }\n",
       "\n",
       "    .dataframe tbody tr th {\n",
       "        vertical-align: top;\n",
       "    }\n",
       "\n",
       "    .dataframe thead th {\n",
       "        text-align: right;\n",
       "    }\n",
       "</style>\n",
       "<table border=\"1\" class=\"dataframe\">\n",
       "  <thead>\n",
       "    <tr style=\"text-align: right;\">\n",
       "      <th></th>\n",
       "      <th>Model</th>\n",
       "      <th>R2</th>\n",
       "      <th>MSE</th>\n",
       "      <th>RMSE</th>\n",
       "      <th>MAE</th>\n",
       "    </tr>\n",
       "  </thead>\n",
       "  <tbody>\n",
       "    <tr>\n",
       "      <th>5</th>\n",
       "      <td>GradientBoostingRegressor</td>\n",
       "      <td>83.97</td>\n",
       "      <td>57395.364239</td>\n",
       "      <td>239.573296</td>\n",
       "      <td>130.478324</td>\n",
       "    </tr>\n",
       "    <tr>\n",
       "      <th>8</th>\n",
       "      <td>RandomForestRegressor</td>\n",
       "      <td>80.99</td>\n",
       "      <td>68073.280602</td>\n",
       "      <td>260.908568</td>\n",
       "      <td>123.432160</td>\n",
       "    </tr>\n",
       "    <tr>\n",
       "      <th>6</th>\n",
       "      <td>BaggingRegressor</td>\n",
       "      <td>80.62</td>\n",
       "      <td>69409.780828</td>\n",
       "      <td>263.457361</td>\n",
       "      <td>125.470514</td>\n",
       "    </tr>\n",
       "    <tr>\n",
       "      <th>7</th>\n",
       "      <td>AdaBoostRegressor</td>\n",
       "      <td>73.00</td>\n",
       "      <td>96690.670195</td>\n",
       "      <td>310.951234</td>\n",
       "      <td>163.193268</td>\n",
       "    </tr>\n",
       "    <tr>\n",
       "      <th>4</th>\n",
       "      <td>KNeighborsRegressor</td>\n",
       "      <td>72.50</td>\n",
       "      <td>98466.224415</td>\n",
       "      <td>313.793283</td>\n",
       "      <td>156.569527</td>\n",
       "    </tr>\n",
       "    <tr>\n",
       "      <th>3</th>\n",
       "      <td>ExtraTreeRegressor</td>\n",
       "      <td>65.22</td>\n",
       "      <td>124516.634797</td>\n",
       "      <td>352.869147</td>\n",
       "      <td>152.117944</td>\n",
       "    </tr>\n",
       "    <tr>\n",
       "      <th>0</th>\n",
       "      <td>LinearRegression</td>\n",
       "      <td>65.12</td>\n",
       "      <td>124908.182885</td>\n",
       "      <td>353.423518</td>\n",
       "      <td>197.282406</td>\n",
       "    </tr>\n",
       "    <tr>\n",
       "      <th>2</th>\n",
       "      <td>DecisionTreeRegressor</td>\n",
       "      <td>58.95</td>\n",
       "      <td>146990.878844</td>\n",
       "      <td>383.393895</td>\n",
       "      <td>156.367600</td>\n",
       "    </tr>\n",
       "    <tr>\n",
       "      <th>1</th>\n",
       "      <td>SVR</td>\n",
       "      <td>35.45</td>\n",
       "      <td>231127.174341</td>\n",
       "      <td>480.756877</td>\n",
       "      <td>221.865615</td>\n",
       "    </tr>\n",
       "  </tbody>\n",
       "</table>\n",
       "</div>"
      ],
      "text/plain": [
       "                       Model     R2            MSE        RMSE         MAE\n",
       "5  GradientBoostingRegressor  83.97   57395.364239  239.573296  130.478324\n",
       "8      RandomForestRegressor  80.99   68073.280602  260.908568  123.432160\n",
       "6           BaggingRegressor  80.62   69409.780828  263.457361  125.470514\n",
       "7          AdaBoostRegressor  73.00   96690.670195  310.951234  163.193268\n",
       "4        KNeighborsRegressor  72.50   98466.224415  313.793283  156.569527\n",
       "3         ExtraTreeRegressor  65.22  124516.634797  352.869147  152.117944\n",
       "0           LinearRegression  65.12  124908.182885  353.423518  197.282406\n",
       "2      DecisionTreeRegressor  58.95  146990.878844  383.393895  156.367600\n",
       "1                        SVR  35.45  231127.174341  480.756877  221.865615"
      ]
     },
     "execution_count": 29,
     "metadata": {},
     "output_type": "execute_result"
    }
   ],
   "source": [
    "regression_models = pd.DataFrame({'Model':model_name,'R2':r2,'MSE':mse,'RMSE':rmse,'MAE':mae})\n",
    "regression_models.sort_values(by='R2',ascending=False)"
   ]
  },
  {
   "cell_type": "markdown",
   "id": "1c19e693",
   "metadata": {},
   "source": [
    "# Splitting into x & y for Classification"
   ]
  },
  {
   "cell_type": "code",
   "execution_count": 47,
   "id": "ce70c8ca",
   "metadata": {},
   "outputs": [],
   "source": [
    "x = df_new.drop(\"Price range\",axis=1)\n",
    "y = df_new['Price range']"
   ]
  },
  {
   "cell_type": "code",
   "execution_count": 48,
   "id": "c52d2408",
   "metadata": {},
   "outputs": [],
   "source": [
    "#scaling and transforming\n",
    "from sklearn.preprocessing import StandardScaler, power_transform\n",
    "x = StandardScaler().fit_transform(x)\n",
    "x = power_transform(x,method='yeo-johnson')"
   ]
  },
  {
   "cell_type": "code",
   "execution_count": 49,
   "id": "b85f2c55",
   "metadata": {},
   "outputs": [],
   "source": [
    "from sklearn.model_selection import train_test_split\n",
    "x_train, x_test,y_train,y_test = train_test_split(x,y,test_size=0.25)"
   ]
  },
  {
   "cell_type": "code",
   "execution_count": 50,
   "id": "12ed6c33",
   "metadata": {},
   "outputs": [
    {
     "data": {
      "text/plain": [
       "1    3215\n",
       "2    2156\n",
       "3     836\n",
       "4     329\n",
       "Name: Price range, dtype: int64"
      ]
     },
     "execution_count": 50,
     "metadata": {},
     "output_type": "execute_result"
    }
   ],
   "source": [
    "y_train.value_counts()"
   ]
  },
  {
   "cell_type": "code",
   "execution_count": 52,
   "id": "d6a7fdf1",
   "metadata": {},
   "outputs": [],
   "source": [
    "from imblearn.over_sampling import SMOTE\n",
    "# using SMOTE to balance the training data\n",
    "x_train, y_train = SMOTE().fit_resample(x_train,y_train)"
   ]
  },
  {
   "cell_type": "code",
   "execution_count": 53,
   "id": "a4d1ce35",
   "metadata": {},
   "outputs": [
    {
     "data": {
      "text/plain": [
       "2    3215\n",
       "1    3215\n",
       "3    3215\n",
       "4    3215\n",
       "Name: Price range, dtype: int64"
      ]
     },
     "execution_count": 53,
     "metadata": {},
     "output_type": "execute_result"
    }
   ],
   "source": [
    "y_train.value_counts()"
   ]
  },
  {
   "cell_type": "markdown",
   "id": "797d4529",
   "metadata": {},
   "source": [
    "# Model Creation for Price Range"
   ]
  },
  {
   "cell_type": "code",
   "execution_count": 54,
   "id": "4fe99f30",
   "metadata": {},
   "outputs": [],
   "source": [
    "# making a function for roc_auc score\n",
    "from sklearn.preprocessing import LabelBinarizer\n",
    "\n",
    "def multiclass_roc_auc_score(y_test,y_pred):\n",
    "    y_test_new = LabelBinarizer().fit_transform(y_test)\n",
    "    y_pred_new = LabelBinarizer().fit_transform(y_pred)\n",
    "    return round(roc_auc_score(y_test_new,y_pred_new)*100,2)"
   ]
  },
  {
   "cell_type": "code",
   "execution_count": 55,
   "id": "b9d3a998",
   "metadata": {},
   "outputs": [],
   "source": [
    "# making a function for classification models\n",
    "from sklearn.metrics import f1_score, roc_auc_score, confusion_matrix, classification_report, accuracy_score\n",
    "from sklearn.model_selection import cross_val_score, GridSearchCV\n",
    "\n",
    "Model, score, f1, cross, roc_auc = [], [], [], [], []\n",
    "\n",
    "def classification_model(model):\n",
    "    Model.append(str(model).split(\"(\")[0])\n",
    "    model.fit(x_train,y_train)\n",
    "    y_pred = model.predict(x_test)\n",
    "    \n",
    "    scoree = round(accuracy_score(y_test,y_pred)*100,2)\n",
    "    score.append(scoree)\n",
    "    \n",
    "    f1_s = round(f1_score(y_test,y_pred,average='micro')*100,2)\n",
    "    f1.append(f1_s)\n",
    "    \n",
    "    cross_v = cross_val_score(model,x,y,cv=10,scoring='accuracy').mean()\n",
    "    cross.append(cross_v)\n",
    "    \n",
    "    roc_ = multiclass_roc_auc_score(y_test,y_pred)\n",
    "    roc_auc.append(roc_)\n",
    "    \n",
    "    print (\"Model:\",str(model).split(\"(\")[0])\n",
    "    print (\"Accuracy Score:\",scoree)\n",
    "    print (\"f1 Score:\",f1_s)\n",
    "    print (\"CV Score:\",cross_v)\n",
    "    print (\"ROC_AUC Score:\",roc_)\n",
    "\n",
    "#      shows the classification report\n",
    "    class_report = classification_report(y_test,model.predict(x_test))\n",
    "    print (class_report)\n",
    "    \n",
    "    \n",
    "#     shows the confusion matrix\n",
    "    sns.heatmap(confusion_matrix(y_test,y_pred), annot=True,square=True)"
   ]
  },
  {
   "cell_type": "code",
   "execution_count": 56,
   "id": "fd4d2826",
   "metadata": {},
   "outputs": [
    {
     "data": {
      "text/plain": [
       "{'C': 1, 'penalty': 'none'}"
      ]
     },
     "execution_count": 56,
     "metadata": {},
     "output_type": "execute_result"
    }
   ],
   "source": [
    "from sklearn.linear_model import LogisticRegression\n",
    "\n",
    "lr = LogisticRegression()\n",
    "lr_para = {'penalty':['l1','l2','elasticnet','none'],'C':range(1,10)}\n",
    "gs_lr = GridSearchCV(lr,lr_para,cv=3,scoring='accuracy')\n",
    "gs_lr.fit(x_train,y_train)\n",
    "gs_lr.best_params_"
   ]
  },
  {
   "cell_type": "code",
   "execution_count": 57,
   "id": "59c495ea",
   "metadata": {},
   "outputs": [
    {
     "name": "stdout",
     "output_type": "stream",
     "text": [
      "Model: LogisticRegression\n",
      "Accuracy Score: 93.85\n",
      "f1 Score: 93.85\n",
      "CV Score: 0.9497487860626297\n",
      "ROC_AUC Score: 93.88\n",
      "              precision    recall  f1-score   support\n",
      "\n",
      "           1       0.99      0.99      0.99      1080\n",
      "           2       0.97      0.91      0.94       705\n",
      "           3       0.80      0.84      0.82       298\n",
      "           4       0.70      0.84      0.76        96\n",
      "\n",
      "    accuracy                           0.94      2179\n",
      "   macro avg       0.86      0.90      0.88      2179\n",
      "weighted avg       0.94      0.94      0.94      2179\n",
      "\n"
     ]
    },
    {
     "data": {
      "image/png": "[encoded data removed]",
      "text/plain": [
       "<Figure size 432x288 with 2 Axes>"
      ]
     },
     "metadata": {
      "needs_background": "light"
     },
     "output_type": "display_data"
    }
   ],
   "source": [
    "lr = LogisticRegression(penalty='none',C=1)\n",
    "classification_model(lr) "
   ]
  },
  {
   "cell_type": "code",
   "execution_count": 58,
   "id": "b31946dd",
   "metadata": {},
   "outputs": [
    {
     "data": {
      "text/plain": [
       "{'criterion': 'log_loss', 'splitter': 'best'}"
      ]
     },
     "execution_count": 58,
     "metadata": {},
     "output_type": "execute_result"
    }
   ],
   "source": [
    "from sklearn.tree import DecisionTreeClassifier\n",
    "\n",
    "dtc = DecisionTreeClassifier()\n",
    "dtc_para = {'criterion':['gini','entropy','log_loss'],'splitter':['best','random']}\n",
    "gsCV_dtc = GridSearchCV(dtc,dtc_para,cv=3,scoring='accuracy')\n",
    "gsCV_dtc.fit(x_train,y_train)\n",
    "gsCV_dtc.best_params_"
   ]
  },
  {
   "cell_type": "code",
   "execution_count": 59,
   "id": "e6ec9512",
   "metadata": {},
   "outputs": [
    {
     "name": "stdout",
     "output_type": "stream",
     "text": [
      "Model: DecisionTreeClassifier\n",
      "Accuracy Score: 98.12\n",
      "f1 Score: 98.12\n",
      "CV Score: 0.9402425504797819\n",
      "ROC_AUC Score: 97.81\n",
      "              precision    recall  f1-score   support\n",
      "\n",
      "           1       1.00      1.00      1.00      1080\n",
      "           2       0.99      0.98      0.98       705\n",
      "           3       0.95      0.94      0.94       298\n",
      "           4       0.88      0.93      0.90        96\n",
      "\n",
      "    accuracy                           0.98      2179\n",
      "   macro avg       0.95      0.96      0.96      2179\n",
      "weighted avg       0.98      0.98      0.98      2179\n",
      "\n"
     ]
    },
    {
     "data": {
      "image/png": "[encoded data removed]",
      "text/plain": [
       "<Figure size 432x288 with 2 Axes>"
      ]
     },
     "metadata": {
      "needs_background": "light"
     },
     "output_type": "display_data"
    }
   ],
   "source": [
    "dtc = DecisionTreeClassifier(criterion='entropy',splitter='best')\n",
    "classification_model(dtc)"
   ]
  },
  {
   "cell_type": "code",
   "execution_count": 60,
   "id": "3ca3e0b5",
   "metadata": {},
   "outputs": [
    {
     "data": {
      "text/plain": [
       "{'criterion': 'entropy', 'n_estimators': 100}"
      ]
     },
     "execution_count": 60,
     "metadata": {},
     "output_type": "execute_result"
    }
   ],
   "source": [
    "from sklearn.ensemble import RandomForestClassifier\n",
    "\n",
    "rfc = RandomForestClassifier()\n",
    "rfc_para = {'n_estimators':range(50,250,50),'criterion':['gini','entropy']}\n",
    "gsCV_rfc = GridSearchCV(rfc,rfc_para,cv=3,scoring='accuracy')\n",
    "gsCV_rfc.fit(x_train,y_train)\n",
    "gsCV_rfc.best_params_"
   ]
  },
  {
   "cell_type": "code",
   "execution_count": 61,
   "id": "33addd78",
   "metadata": {},
   "outputs": [
    {
     "name": "stdout",
     "output_type": "stream",
     "text": [
      "Model: RandomForestClassifier\n",
      "Accuracy Score: 97.8\n",
      "f1 Score: 97.8\n",
      "CV Score: 0.9647817282676245\n",
      "ROC_AUC Score: 97.19\n",
      "              precision    recall  f1-score   support\n",
      "\n",
      "           1       0.99      1.00      1.00      1080\n",
      "           2       0.98      0.98      0.98       705\n",
      "           3       0.95      0.92      0.94       298\n",
      "           4       0.89      0.91      0.90        96\n",
      "\n",
      "    accuracy                           0.98      2179\n",
      "   macro avg       0.95      0.95      0.95      2179\n",
      "weighted avg       0.98      0.98      0.98      2179\n",
      "\n"
     ]
    },
    {
     "data": {
      "image/png": "[encoded data removed]",
      "text/plain": [
       "<Figure size 432x288 with 2 Axes>"
      ]
     },
     "metadata": {
      "needs_background": "light"
     },
     "output_type": "display_data"
    }
   ],
   "source": [
    "rfc = RandomForestClassifier(n_estimators=150,criterion='entropy')\n",
    "classification_model(rfc)"
   ]
  },
  {
   "cell_type": "code",
   "execution_count": 62,
   "id": "d98008a4",
   "metadata": {},
   "outputs": [
    {
     "data": {
      "text/plain": [
       "{'algorithm': 'SAMME', 'n_estimators': 150}"
      ]
     },
     "execution_count": 62,
     "metadata": {},
     "output_type": "execute_result"
    }
   ],
   "source": [
    "from sklearn.ensemble import AdaBoostClassifier\n",
    "\n",
    "abc = AdaBoostClassifier()\n",
    "abc_para = {'n_estimators':range(50,300,50),'algorithm':['SAMME','SAMME.R']}\n",
    "gs_abc = GridSearchCV(abc,abc_para,cv=3,scoring='accuracy')\n",
    "gs_abc.fit(x_train,y_train)\n",
    "gs_abc.best_params_"
   ]
  },
  {
   "cell_type": "code",
   "execution_count": 63,
   "id": "dddc6532",
   "metadata": {},
   "outputs": [
    {
     "name": "stdout",
     "output_type": "stream",
     "text": [
      "Model: AdaBoostClassifier\n",
      "Accuracy Score: 96.88\n",
      "f1 Score: 96.88\n",
      "CV Score: 0.967534548499563\n",
      "ROC_AUC Score: 95.78\n",
      "              precision    recall  f1-score   support\n",
      "\n",
      "           1       0.99      1.00      0.99      1080\n",
      "           2       0.96      0.97      0.97       705\n",
      "           3       0.93      0.90      0.91       298\n",
      "           4       0.95      0.84      0.90        96\n",
      "\n",
      "    accuracy                           0.97      2179\n",
      "   macro avg       0.96      0.93      0.94      2179\n",
      "weighted avg       0.97      0.97      0.97      2179\n",
      "\n"
     ]
    },
    {
     "data": {
      "image/png": "[encoded data removed]",
      "text/plain": [
       "<Figure size 432x288 with 2 Axes>"
      ]
     },
     "metadata": {
      "needs_background": "light"
     },
     "output_type": "display_data"
    }
   ],
   "source": [
    "ada = AdaBoostClassifier(n_estimators=50,algorithm='SAMME')\n",
    "classification_model(ada) "
   ]
  },
  {
   "cell_type": "code",
   "execution_count": 64,
   "id": "9f18e3e7",
   "metadata": {},
   "outputs": [
    {
     "data": {
      "text/plain": [
       "{'n_estimators': 50}"
      ]
     },
     "execution_count": 64,
     "metadata": {},
     "output_type": "execute_result"
    }
   ],
   "source": [
    "from sklearn.ensemble import BaggingClassifier\n",
    "\n",
    "bc = BaggingClassifier()\n",
    "bc_para = {'n_estimators':range(50,250,50)}\n",
    "gsCV_bc = GridSearchCV(bc,bc_para,scoring='accuracy')\n",
    "gsCV_bc.fit(x_train,y_train)\n",
    "gsCV_bc.best_params_"
   ]
  },
  {
   "cell_type": "code",
   "execution_count": 65,
   "id": "826f6e96",
   "metadata": {},
   "outputs": [
    {
     "name": "stdout",
     "output_type": "stream",
     "text": [
      "Model: BaggingClassifier\n",
      "Accuracy Score: 98.26\n",
      "f1 Score: 98.26\n",
      "CV Score: 0.945630615447814\n",
      "ROC_AUC Score: 97.95\n",
      "              precision    recall  f1-score   support\n",
      "\n",
      "           1       1.00      1.00      1.00      1080\n",
      "           2       0.99      0.99      0.99       705\n",
      "           3       0.96      0.94      0.95       298\n",
      "           4       0.88      0.94      0.91        96\n",
      "\n",
      "    accuracy                           0.98      2179\n",
      "   macro avg       0.96      0.96      0.96      2179\n",
      "weighted avg       0.98      0.98      0.98      2179\n",
      "\n"
     ]
    },
    {
     "data": {
      "image/png": "[encoded data removed]",
      "text/plain": [
       "<Figure size 432x288 with 2 Axes>"
      ]
     },
     "metadata": {
      "needs_background": "light"
     },
     "output_type": "display_data"
    }
   ],
   "source": [
    "bc = BaggingClassifier(n_estimators=100)\n",
    "classification_model(bc)"
   ]
  },
  {
   "cell_type": "code",
   "execution_count": 66,
   "id": "de58aa92",
   "metadata": {},
   "outputs": [
    {
     "data": {
      "text/plain": [
       "{'C': 10, 'kernel': 'rbf'}"
      ]
     },
     "execution_count": 66,
     "metadata": {},
     "output_type": "execute_result"
    }
   ],
   "source": [
    "from sklearn.svm import SVC\n",
    "svc = SVC()\n",
    "svc_para={'C':[1,10],'kernel':['linear', 'poly', 'rbf', 'sigmoid']}\n",
    "gsCV_svc = GridSearchCV(svc,svc_para,cv=3,scoring='accuracy')\n",
    "gsCV_svc.fit(x_train,y_train)\n",
    "gsCV_svc.best_params_"
   ]
  },
  {
   "cell_type": "code",
   "execution_count": 67,
   "id": "951e14dc",
   "metadata": {},
   "outputs": [
    {
     "name": "stdout",
     "output_type": "stream",
     "text": [
      "Model: SVC\n",
      "Accuracy Score: 95.5\n",
      "f1 Score: 95.5\n",
      "CV Score: 0.955142644224186\n",
      "ROC_AUC Score: 95.14\n",
      "              precision    recall  f1-score   support\n",
      "\n",
      "           1       0.99      0.99      0.99      1080\n",
      "           2       0.97      0.95      0.96       705\n",
      "           3       0.88      0.85      0.86       298\n",
      "           4       0.74      0.88      0.80        96\n",
      "\n",
      "    accuracy                           0.96      2179\n",
      "   macro avg       0.89      0.92      0.90      2179\n",
      "weighted avg       0.96      0.96      0.96      2179\n",
      "\n"
     ]
    },
    {
     "data": {
      "image/png": "[encoded data removed]",
      "text/plain": [
       "<Figure size 432x288 with 2 Axes>"
      ]
     },
     "metadata": {
      "needs_background": "light"
     },
     "output_type": "display_data"
    }
   ],
   "source": [
    "svc = SVC(kernel='rbf',C=10)\n",
    "classification_model(svc)"
   ]
  },
  {
   "cell_type": "code",
   "execution_count": 68,
   "id": "faa2d196",
   "metadata": {},
   "outputs": [
    {
     "data": {
      "text/html": [
       "<div>\n",
       "<style scoped>\n",
       "    .dataframe tbody tr th:only-of-type {\n",
       "        vertical-align: middle;\n",
       "    }\n",
       "\n",
       "    .dataframe tbody tr th {\n",
       "        vertical-align: top;\n",
       "    }\n",
       "\n",
       "    .dataframe thead th {\n",
       "        text-align: right;\n",
       "    }\n",
       "</style>\n",
       "<table border=\"1\" class=\"dataframe\">\n",
       "  <thead>\n",
       "    <tr style=\"text-align: right;\">\n",
       "      <th></th>\n",
       "      <th>Model Name</th>\n",
       "      <th>Accuracy Score</th>\n",
       "      <th>F1 Score</th>\n",
       "      <th>CV Score</th>\n",
       "      <th>ROC_AUC Score</th>\n",
       "    </tr>\n",
       "  </thead>\n",
       "  <tbody>\n",
       "    <tr>\n",
       "      <th>4</th>\n",
       "      <td>BaggingClassifier</td>\n",
       "      <td>98.26</td>\n",
       "      <td>98.26</td>\n",
       "      <td>0.945631</td>\n",
       "      <td>97.95</td>\n",
       "    </tr>\n",
       "    <tr>\n",
       "      <th>1</th>\n",
       "      <td>DecisionTreeClassifier</td>\n",
       "      <td>98.12</td>\n",
       "      <td>98.12</td>\n",
       "      <td>0.940243</td>\n",
       "      <td>97.81</td>\n",
       "    </tr>\n",
       "    <tr>\n",
       "      <th>2</th>\n",
       "      <td>RandomForestClassifier</td>\n",
       "      <td>97.80</td>\n",
       "      <td>97.80</td>\n",
       "      <td>0.964782</td>\n",
       "      <td>97.19</td>\n",
       "    </tr>\n",
       "    <tr>\n",
       "      <th>3</th>\n",
       "      <td>AdaBoostClassifier</td>\n",
       "      <td>96.88</td>\n",
       "      <td>96.88</td>\n",
       "      <td>0.967535</td>\n",
       "      <td>95.78</td>\n",
       "    </tr>\n",
       "    <tr>\n",
       "      <th>5</th>\n",
       "      <td>SVC</td>\n",
       "      <td>95.50</td>\n",
       "      <td>95.50</td>\n",
       "      <td>0.955143</td>\n",
       "      <td>95.14</td>\n",
       "    </tr>\n",
       "    <tr>\n",
       "      <th>0</th>\n",
       "      <td>LogisticRegression</td>\n",
       "      <td>93.85</td>\n",
       "      <td>93.85</td>\n",
       "      <td>0.949749</td>\n",
       "      <td>93.88</td>\n",
       "    </tr>\n",
       "  </tbody>\n",
       "</table>\n",
       "</div>"
      ],
      "text/plain": [
       "               Model Name  Accuracy Score  F1 Score  CV Score  ROC_AUC Score\n",
       "4       BaggingClassifier           98.26     98.26  0.945631          97.95\n",
       "1  DecisionTreeClassifier           98.12     98.12  0.940243          97.81\n",
       "2  RandomForestClassifier           97.80     97.80  0.964782          97.19\n",
       "3      AdaBoostClassifier           96.88     96.88  0.967535          95.78\n",
       "5                     SVC           95.50     95.50  0.955143          95.14\n",
       "0      LogisticRegression           93.85     93.85  0.949749          93.88"
      ]
     },
     "execution_count": 68,
     "metadata": {},
     "output_type": "execute_result"
    }
   ],
   "source": [
    "classifier_models = pd.DataFrame({'Model Name':Model,'Accuracy Score':score,'F1 Score':f1,'CV Score':cross,\n",
    "                                  'ROC_AUC Score':roc_auc})\n",
    "classifier_models.sort_values(by='ROC_AUC Score',ascending=False)"
   ]
  },
  {
   "cell_type": "markdown",
   "id": "3e41427f",
   "metadata": {},
   "source": [
    "# According to the performance metrics Bagging Classifier is the best model with an F1 Score of 98.26 and ROC_AUC Score of 97.95"
   ]
  },
  {
   "cell_type": "code",
   "execution_count": 69,
   "id": "1ffbadfa",
   "metadata": {},
   "outputs": [
    {
     "data": {
      "text/plain": [
       "<AxesSubplot:>"
      ]
     },
     "execution_count": 69,
     "metadata": {},
     "output_type": "execute_result"
    },
    {
     "data": {
      "image/png": "[encoded data removed]",
      "text/plain": [
       "<Figure size 720x720 with 1 Axes>"
      ]
     },
     "metadata": {
      "needs_background": "light"
     },
     "output_type": "display_data"
    }
   ],
   "source": [
    "# Feature importance of the classifier\n",
    "pd.Series(dtc.feature_importances_, index = df_new.columns[:-1]).sort_values(ascending=True).plot(kind='barh', figsize=(10,10),\n",
    "                                                                                                 color=(['#F8EDE3','#DFD3C3',\n",
    "                                                                                                         '#D0B8A8','#7D6E83',\n",
    "                                                                                                         '#AEBDCA','#7895B2']))"
   ]
  },
  {
   "cell_type": "markdown",
   "id": "7735dc14",
   "metadata": {},
   "source": [
    "# Saving the model"
   ]
  },
  {
   "cell_type": "code",
   "execution_count": 71,
   "id": "7ea2e37f",
   "metadata": {},
   "outputs": [
    {
     "data": {
      "text/plain": [
       "['BC_Zomato_PriceRange.pkl']"
      ]
     },
     "execution_count": 71,
     "metadata": {},
     "output_type": "execute_result"
    }
   ],
   "source": [
    "import joblib \n",
    "joblib.dump(bc,'BC_Zomato_PriceRange.pkl')"
   ]
  },
  {
   "cell_type": "code",
   "execution_count": 72,
   "id": "880937a1",
   "metadata": {},
   "outputs": [
    {
     "data": {
      "text/plain": [
       "['RFR_Zomato_AvgCostTwo.pkl']"
      ]
     },
     "execution_count": 72,
     "metadata": {},
     "output_type": "execute_result"
    }
   ],
   "source": [
    "joblib.dump(RandomForestRegressor(),'RFR_Zomato_AvgCostTwo.pkl')"
   ]
  }
 ],
 "metadata": {
  "kernelspec": {
   "display_name": "Python 3 (ipykernel)",
   "language": "python",
   "name": "python3"
  },
  "language_info": {
   "codemirror_mode": {
    "name": "ipython",
    "version": 3
   },
   "file_extension": ".py",
   "mimetype": "text/x-python",
   "name": "python",
   "nbconvert_exporter": "python",
   "pygments_lexer": "ipython3",
   "version": "3.9.13"
  }
 },
 "nbformat": 4,
 "nbformat_minor": 5
}
