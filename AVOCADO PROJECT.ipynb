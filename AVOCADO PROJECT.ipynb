{
 "cells": [
  {
   "cell_type": "markdown",
   "id": "8cde55a2",
   "metadata": {},
   "source": [
    "                                                 # Avacado Project"
   ]
  },
  {
   "cell_type": "code",
   "execution_count": 18,
   "id": "1a7f82a5",
   "metadata": {},
   "outputs": [],
   "source": [
    "#import all the required libraries\n",
    "%matplotlib inline\n",
    "\n",
    "import pandas as pd\n",
    "import numpy as np\n",
    "import matplotlib\n",
    "from matplotlib import pyplot as plt\n",
    "import seaborn as sns\n",
    "import sklearn\n",
    "from sklearn.model_selection import train_test_split\n",
    "from sklearn.preprocessing import StandardScaler\n",
    "from sklearn.metrics import confusion_matrix,classification_report\n",
    "from sklearn.preprocessing import LabelEncoder\n",
    "from sklearn import tree\n",
    "from sklearn.ensemble import RandomForestClassifier\n",
    "from sklearn.neighbors import KNeighborsClassifier\n",
    "from sklearn.naive_bayes import GaussianNB\n",
    "from sklearn.linear_model import LogisticRegression\n",
    "from sklearn.svm import SVC\n",
    "from sklearn.tree import DecisionTreeClassifier\n",
    "from sklearn.model_selection import cross_val_score\n",
    "from sklearn.model_selection import GridSearchCV\n",
    "from sklearn.metrics import accuracy_score,plot_roc_curve\n",
    "import warnings\n",
    "warnings.filterwarnings('ignore')"
   ]
  },
  {
   "cell_type": "code",
   "execution_count": 19,
   "id": "0e997e32",
   "metadata": {},
   "outputs": [
    {
     "data": {
      "text/html": [
       "<div>\n",
       "<style scoped>\n",
       "    .dataframe tbody tr th:only-of-type {\n",
       "        vertical-align: middle;\n",
       "    }\n",
       "\n",
       "    .dataframe tbody tr th {\n",
       "        vertical-align: top;\n",
       "    }\n",
       "\n",
       "    .dataframe thead th {\n",
       "        text-align: right;\n",
       "    }\n",
       "</style>\n",
       "<table border=\"1\" class=\"dataframe\">\n",
       "  <thead>\n",
       "    <tr style=\"text-align: right;\">\n",
       "      <th></th>\n",
       "      <th>Unnamed: 0</th>\n",
       "      <th>Date</th>\n",
       "      <th>AveragePrice</th>\n",
       "      <th>Total Volume</th>\n",
       "      <th>4046</th>\n",
       "      <th>4225</th>\n",
       "      <th>4770</th>\n",
       "      <th>Total Bags</th>\n",
       "      <th>Small Bags</th>\n",
       "      <th>Large Bags</th>\n",
       "      <th>XLarge Bags</th>\n",
       "      <th>type</th>\n",
       "      <th>year</th>\n",
       "      <th>region</th>\n",
       "    </tr>\n",
       "  </thead>\n",
       "  <tbody>\n",
       "    <tr>\n",
       "      <th>0</th>\n",
       "      <td>0</td>\n",
       "      <td>2015-12-27</td>\n",
       "      <td>1.330</td>\n",
       "      <td>64236.620</td>\n",
       "      <td>1036.740</td>\n",
       "      <td>54454.850</td>\n",
       "      <td>48.160</td>\n",
       "      <td>8696.870</td>\n",
       "      <td>8603.620</td>\n",
       "      <td>93.250</td>\n",
       "      <td>0.000</td>\n",
       "      <td>conventional</td>\n",
       "      <td>2015</td>\n",
       "      <td>Albany</td>\n",
       "    </tr>\n",
       "    <tr>\n",
       "      <th>1</th>\n",
       "      <td>1</td>\n",
       "      <td>2015-12-20</td>\n",
       "      <td>1.350</td>\n",
       "      <td>54876.980</td>\n",
       "      <td>674.280</td>\n",
       "      <td>44638.810</td>\n",
       "      <td>58.330</td>\n",
       "      <td>9505.560</td>\n",
       "      <td>9408.070</td>\n",
       "      <td>97.490</td>\n",
       "      <td>0.000</td>\n",
       "      <td>conventional</td>\n",
       "      <td>2015</td>\n",
       "      <td>Albany</td>\n",
       "    </tr>\n",
       "    <tr>\n",
       "      <th>2</th>\n",
       "      <td>2</td>\n",
       "      <td>2015-12-13</td>\n",
       "      <td>0.930</td>\n",
       "      <td>118220.220</td>\n",
       "      <td>794.700</td>\n",
       "      <td>109149.670</td>\n",
       "      <td>130.500</td>\n",
       "      <td>8145.350</td>\n",
       "      <td>8042.210</td>\n",
       "      <td>103.140</td>\n",
       "      <td>0.000</td>\n",
       "      <td>conventional</td>\n",
       "      <td>2015</td>\n",
       "      <td>Albany</td>\n",
       "    </tr>\n",
       "    <tr>\n",
       "      <th>3</th>\n",
       "      <td>3</td>\n",
       "      <td>2015-12-06</td>\n",
       "      <td>1.080</td>\n",
       "      <td>78992.150</td>\n",
       "      <td>1132.000</td>\n",
       "      <td>71976.410</td>\n",
       "      <td>72.580</td>\n",
       "      <td>5811.160</td>\n",
       "      <td>5677.400</td>\n",
       "      <td>133.760</td>\n",
       "      <td>0.000</td>\n",
       "      <td>conventional</td>\n",
       "      <td>2015</td>\n",
       "      <td>Albany</td>\n",
       "    </tr>\n",
       "    <tr>\n",
       "      <th>4</th>\n",
       "      <td>4</td>\n",
       "      <td>2015-11-29</td>\n",
       "      <td>1.280</td>\n",
       "      <td>51039.600</td>\n",
       "      <td>941.480</td>\n",
       "      <td>43838.390</td>\n",
       "      <td>75.780</td>\n",
       "      <td>6183.950</td>\n",
       "      <td>5986.260</td>\n",
       "      <td>197.690</td>\n",
       "      <td>0.000</td>\n",
       "      <td>conventional</td>\n",
       "      <td>2015</td>\n",
       "      <td>Albany</td>\n",
       "    </tr>\n",
       "  </tbody>\n",
       "</table>\n",
       "</div>"
      ],
      "text/plain": [
       "   Unnamed: 0        Date  AveragePrice  Total Volume     4046       4225  \\\n",
       "0           0  2015-12-27         1.330     64236.620 1036.740  54454.850   \n",
       "1           1  2015-12-20         1.350     54876.980  674.280  44638.810   \n",
       "2           2  2015-12-13         0.930    118220.220  794.700 109149.670   \n",
       "3           3  2015-12-06         1.080     78992.150 1132.000  71976.410   \n",
       "4           4  2015-11-29         1.280     51039.600  941.480  43838.390   \n",
       "\n",
       "     4770  Total Bags  Small Bags  Large Bags  XLarge Bags          type  \\\n",
       "0  48.160    8696.870    8603.620      93.250        0.000  conventional   \n",
       "1  58.330    9505.560    9408.070      97.490        0.000  conventional   \n",
       "2 130.500    8145.350    8042.210     103.140        0.000  conventional   \n",
       "3  72.580    5811.160    5677.400     133.760        0.000  conventional   \n",
       "4  75.780    6183.950    5986.260     197.690        0.000  conventional   \n",
       "\n",
       "   year  region  \n",
       "0  2015  Albany  \n",
       "1  2015  Albany  \n",
       "2  2015  Albany  \n",
       "3  2015  Albany  \n",
       "4  2015  Albany  "
      ]
     },
     "execution_count": 19,
     "metadata": {},
     "output_type": "execute_result"
    }
   ],
   "source": [
    "#import dataframe\n",
    "df = pd.read_csv('avocado.csv')\n",
    "df.head()\n"
   ]
  },
  {
   "cell_type": "code",
   "execution_count": 20,
   "id": "b723d12e",
   "metadata": {},
   "outputs": [
    {
     "data": {
      "text/plain": [
       "(18249, 14)"
      ]
     },
     "execution_count": 20,
     "metadata": {},
     "output_type": "execute_result"
    }
   ],
   "source": [
    "# to check number of rows and columns\n",
    "df.shape"
   ]
  },
  {
   "cell_type": "code",
   "execution_count": 21,
   "id": "edd961f7",
   "metadata": {},
   "outputs": [
    {
     "data": {
      "text/plain": [
       "['Unnamed: 0',\n",
       " 'Date',\n",
       " 'AveragePrice',\n",
       " 'Total Volume',\n",
       " '4046',\n",
       " '4225',\n",
       " '4770',\n",
       " 'Total Bags',\n",
       " 'Small Bags',\n",
       " 'Large Bags',\n",
       " 'XLarge Bags',\n",
       " 'type',\n",
       " 'year',\n",
       " 'region']"
      ]
     },
     "execution_count": 21,
     "metadata": {},
     "output_type": "execute_result"
    }
   ],
   "source": [
    "# to check column names\n",
    "df.columns.tolist()"
   ]
  },
  {
   "cell_type": "code",
   "execution_count": 22,
   "id": "b065f456",
   "metadata": {},
   "outputs": [
    {
     "data": {
      "text/plain": [
       "Unnamed: 0      0\n",
       "Date            0\n",
       "AveragePrice    0\n",
       "Total Volume    0\n",
       "4046            0\n",
       "4225            0\n",
       "4770            0\n",
       "Total Bags      0\n",
       "Small Bags      0\n",
       "Large Bags      0\n",
       "XLarge Bags     0\n",
       "type            0\n",
       "year            0\n",
       "region          0\n",
       "dtype: int64"
      ]
     },
     "execution_count": 22,
     "metadata": {},
     "output_type": "execute_result"
    }
   ],
   "source": [
    "# to check for null values\n",
    "df.isnull().sum()"
   ]
  },
  {
   "cell_type": "code",
   "execution_count": 23,
   "id": "0a6adff9",
   "metadata": {},
   "outputs": [
    {
     "data": {
      "text/plain": [
       "0"
      ]
     },
     "execution_count": 23,
     "metadata": {},
     "output_type": "execute_result"
    }
   ],
   "source": [
    "#to check for duplicate values\n",
    "df.duplicated().sum()"
   ]
  },
  {
   "cell_type": "code",
   "execution_count": 24,
   "id": "30c1c68a",
   "metadata": {},
   "outputs": [
    {
     "data": {
      "text/html": [
       "<div>\n",
       "<style scoped>\n",
       "    .dataframe tbody tr th:only-of-type {\n",
       "        vertical-align: middle;\n",
       "    }\n",
       "\n",
       "    .dataframe tbody tr th {\n",
       "        vertical-align: top;\n",
       "    }\n",
       "\n",
       "    .dataframe thead th {\n",
       "        text-align: right;\n",
       "    }\n",
       "</style>\n",
       "<table border=\"1\" class=\"dataframe\">\n",
       "  <thead>\n",
       "    <tr style=\"text-align: right;\">\n",
       "      <th></th>\n",
       "      <th>AveragePrice</th>\n",
       "      <th>Total Volume</th>\n",
       "      <th>4046</th>\n",
       "      <th>4225</th>\n",
       "      <th>4770</th>\n",
       "      <th>Total Bags</th>\n",
       "      <th>Small Bags</th>\n",
       "      <th>Large Bags</th>\n",
       "      <th>XLarge Bags</th>\n",
       "      <th>type</th>\n",
       "      <th>year</th>\n",
       "      <th>region</th>\n",
       "    </tr>\n",
       "  </thead>\n",
       "  <tbody>\n",
       "    <tr>\n",
       "      <th>0</th>\n",
       "      <td>1.330</td>\n",
       "      <td>64236.620</td>\n",
       "      <td>1036.740</td>\n",
       "      <td>54454.850</td>\n",
       "      <td>48.160</td>\n",
       "      <td>8696.870</td>\n",
       "      <td>8603.620</td>\n",
       "      <td>93.250</td>\n",
       "      <td>0.000</td>\n",
       "      <td>conventional</td>\n",
       "      <td>2015</td>\n",
       "      <td>Albany</td>\n",
       "    </tr>\n",
       "    <tr>\n",
       "      <th>1</th>\n",
       "      <td>1.350</td>\n",
       "      <td>54876.980</td>\n",
       "      <td>674.280</td>\n",
       "      <td>44638.810</td>\n",
       "      <td>58.330</td>\n",
       "      <td>9505.560</td>\n",
       "      <td>9408.070</td>\n",
       "      <td>97.490</td>\n",
       "      <td>0.000</td>\n",
       "      <td>conventional</td>\n",
       "      <td>2015</td>\n",
       "      <td>Albany</td>\n",
       "    </tr>\n",
       "    <tr>\n",
       "      <th>2</th>\n",
       "      <td>0.930</td>\n",
       "      <td>118220.220</td>\n",
       "      <td>794.700</td>\n",
       "      <td>109149.670</td>\n",
       "      <td>130.500</td>\n",
       "      <td>8145.350</td>\n",
       "      <td>8042.210</td>\n",
       "      <td>103.140</td>\n",
       "      <td>0.000</td>\n",
       "      <td>conventional</td>\n",
       "      <td>2015</td>\n",
       "      <td>Albany</td>\n",
       "    </tr>\n",
       "  </tbody>\n",
       "</table>\n",
       "</div>"
      ],
      "text/plain": [
       "   AveragePrice  Total Volume     4046       4225    4770  Total Bags  \\\n",
       "0         1.330     64236.620 1036.740  54454.850  48.160    8696.870   \n",
       "1         1.350     54876.980  674.280  44638.810  58.330    9505.560   \n",
       "2         0.930    118220.220  794.700 109149.670 130.500    8145.350   \n",
       "\n",
       "   Small Bags  Large Bags  XLarge Bags          type  year  region  \n",
       "0    8603.620      93.250        0.000  conventional  2015  Albany  \n",
       "1    9408.070      97.490        0.000  conventional  2015  Albany  \n",
       "2    8042.210     103.140        0.000  conventional  2015  Albany  "
      ]
     },
     "execution_count": 24,
     "metadata": {},
     "output_type": "execute_result"
    }
   ],
   "source": [
    "# to drop columns which are like index, add no value to the dataset.\n",
    "df.drop(['Unnamed: 0','Date'],axis=1,inplace=True)\n",
    "df.head(3)"
   ]
  },
  {
   "cell_type": "code",
   "execution_count": 25,
   "id": "d3365008",
   "metadata": {},
   "outputs": [
    {
     "data": {
      "text/plain": [
       "(18249, 12)"
      ]
     },
     "execution_count": 25,
     "metadata": {},
     "output_type": "execute_result"
    }
   ],
   "source": [
    "# to check the shape of the dataframe after dropping 2 columns\n",
    "df.shape"
   ]
  },
  {
   "cell_type": "code",
   "execution_count": 26,
   "id": "0895494f",
   "metadata": {},
   "outputs": [],
   "source": [
    "# to avoid sentific notations of the numbers which are hard to read\n",
    "pd.set_option('display.float_format',lambda x : '%.3f'%x)"
   ]
  },
  {
   "cell_type": "code",
   "execution_count": 27,
   "id": "0997df5f",
   "metadata": {},
   "outputs": [
    {
     "data": {
      "text/html": [
       "<div>\n",
       "<style scoped>\n",
       "    .dataframe tbody tr th:only-of-type {\n",
       "        vertical-align: middle;\n",
       "    }\n",
       "\n",
       "    .dataframe tbody tr th {\n",
       "        vertical-align: top;\n",
       "    }\n",
       "\n",
       "    .dataframe thead th {\n",
       "        text-align: right;\n",
       "    }\n",
       "</style>\n",
       "<table border=\"1\" class=\"dataframe\">\n",
       "  <thead>\n",
       "    <tr style=\"text-align: right;\">\n",
       "      <th></th>\n",
       "      <th>count</th>\n",
       "      <th>unique</th>\n",
       "      <th>top</th>\n",
       "      <th>freq</th>\n",
       "      <th>mean</th>\n",
       "      <th>std</th>\n",
       "      <th>min</th>\n",
       "      <th>25%</th>\n",
       "      <th>50%</th>\n",
       "      <th>75%</th>\n",
       "      <th>max</th>\n",
       "    </tr>\n",
       "  </thead>\n",
       "  <tbody>\n",
       "    <tr>\n",
       "      <th>AveragePrice</th>\n",
       "      <td>18249.000</td>\n",
       "      <td>NaN</td>\n",
       "      <td>NaN</td>\n",
       "      <td>NaN</td>\n",
       "      <td>1.406</td>\n",
       "      <td>0.403</td>\n",
       "      <td>0.440</td>\n",
       "      <td>1.100</td>\n",
       "      <td>1.370</td>\n",
       "      <td>1.660</td>\n",
       "      <td>3.250</td>\n",
       "    </tr>\n",
       "    <tr>\n",
       "      <th>Total Volume</th>\n",
       "      <td>18249.000</td>\n",
       "      <td>NaN</td>\n",
       "      <td>NaN</td>\n",
       "      <td>NaN</td>\n",
       "      <td>850644.013</td>\n",
       "      <td>3453545.355</td>\n",
       "      <td>84.560</td>\n",
       "      <td>10838.580</td>\n",
       "      <td>107376.760</td>\n",
       "      <td>432962.290</td>\n",
       "      <td>62505646.520</td>\n",
       "    </tr>\n",
       "    <tr>\n",
       "      <th>4046</th>\n",
       "      <td>18249.000</td>\n",
       "      <td>NaN</td>\n",
       "      <td>NaN</td>\n",
       "      <td>NaN</td>\n",
       "      <td>293008.425</td>\n",
       "      <td>1264989.082</td>\n",
       "      <td>0.000</td>\n",
       "      <td>854.070</td>\n",
       "      <td>8645.300</td>\n",
       "      <td>111020.200</td>\n",
       "      <td>22743616.170</td>\n",
       "    </tr>\n",
       "    <tr>\n",
       "      <th>4225</th>\n",
       "      <td>18249.000</td>\n",
       "      <td>NaN</td>\n",
       "      <td>NaN</td>\n",
       "      <td>NaN</td>\n",
       "      <td>295154.568</td>\n",
       "      <td>1204120.401</td>\n",
       "      <td>0.000</td>\n",
       "      <td>3008.780</td>\n",
       "      <td>29061.020</td>\n",
       "      <td>150206.860</td>\n",
       "      <td>20470572.610</td>\n",
       "    </tr>\n",
       "    <tr>\n",
       "      <th>4770</th>\n",
       "      <td>18249.000</td>\n",
       "      <td>NaN</td>\n",
       "      <td>NaN</td>\n",
       "      <td>NaN</td>\n",
       "      <td>22839.736</td>\n",
       "      <td>107464.068</td>\n",
       "      <td>0.000</td>\n",
       "      <td>0.000</td>\n",
       "      <td>184.990</td>\n",
       "      <td>6243.420</td>\n",
       "      <td>2546439.110</td>\n",
       "    </tr>\n",
       "    <tr>\n",
       "      <th>Total Bags</th>\n",
       "      <td>18249.000</td>\n",
       "      <td>NaN</td>\n",
       "      <td>NaN</td>\n",
       "      <td>NaN</td>\n",
       "      <td>239639.202</td>\n",
       "      <td>986242.399</td>\n",
       "      <td>0.000</td>\n",
       "      <td>5088.640</td>\n",
       "      <td>39743.830</td>\n",
       "      <td>110783.370</td>\n",
       "      <td>19373134.370</td>\n",
       "    </tr>\n",
       "    <tr>\n",
       "      <th>Small Bags</th>\n",
       "      <td>18249.000</td>\n",
       "      <td>NaN</td>\n",
       "      <td>NaN</td>\n",
       "      <td>NaN</td>\n",
       "      <td>182194.687</td>\n",
       "      <td>746178.515</td>\n",
       "      <td>0.000</td>\n",
       "      <td>2849.420</td>\n",
       "      <td>26362.820</td>\n",
       "      <td>83337.670</td>\n",
       "      <td>13384586.800</td>\n",
       "    </tr>\n",
       "    <tr>\n",
       "      <th>Large Bags</th>\n",
       "      <td>18249.000</td>\n",
       "      <td>NaN</td>\n",
       "      <td>NaN</td>\n",
       "      <td>NaN</td>\n",
       "      <td>54338.088</td>\n",
       "      <td>243965.965</td>\n",
       "      <td>0.000</td>\n",
       "      <td>127.470</td>\n",
       "      <td>2647.710</td>\n",
       "      <td>22029.250</td>\n",
       "      <td>5719096.610</td>\n",
       "    </tr>\n",
       "    <tr>\n",
       "      <th>XLarge Bags</th>\n",
       "      <td>18249.000</td>\n",
       "      <td>NaN</td>\n",
       "      <td>NaN</td>\n",
       "      <td>NaN</td>\n",
       "      <td>3106.427</td>\n",
       "      <td>17692.895</td>\n",
       "      <td>0.000</td>\n",
       "      <td>0.000</td>\n",
       "      <td>0.000</td>\n",
       "      <td>132.500</td>\n",
       "      <td>551693.650</td>\n",
       "    </tr>\n",
       "    <tr>\n",
       "      <th>type</th>\n",
       "      <td>18249</td>\n",
       "      <td>2</td>\n",
       "      <td>conventional</td>\n",
       "      <td>9126</td>\n",
       "      <td>NaN</td>\n",
       "      <td>NaN</td>\n",
       "      <td>NaN</td>\n",
       "      <td>NaN</td>\n",
       "      <td>NaN</td>\n",
       "      <td>NaN</td>\n",
       "      <td>NaN</td>\n",
       "    </tr>\n",
       "    <tr>\n",
       "      <th>year</th>\n",
       "      <td>18249.000</td>\n",
       "      <td>NaN</td>\n",
       "      <td>NaN</td>\n",
       "      <td>NaN</td>\n",
       "      <td>2016.148</td>\n",
       "      <td>0.940</td>\n",
       "      <td>2015.000</td>\n",
       "      <td>2015.000</td>\n",
       "      <td>2016.000</td>\n",
       "      <td>2017.000</td>\n",
       "      <td>2018.000</td>\n",
       "    </tr>\n",
       "    <tr>\n",
       "      <th>region</th>\n",
       "      <td>18249</td>\n",
       "      <td>54</td>\n",
       "      <td>Albany</td>\n",
       "      <td>338</td>\n",
       "      <td>NaN</td>\n",
       "      <td>NaN</td>\n",
       "      <td>NaN</td>\n",
       "      <td>NaN</td>\n",
       "      <td>NaN</td>\n",
       "      <td>NaN</td>\n",
       "      <td>NaN</td>\n",
       "    </tr>\n",
       "  </tbody>\n",
       "</table>\n",
       "</div>"
      ],
      "text/plain": [
       "                 count unique           top  freq       mean         std  \\\n",
       "AveragePrice 18249.000    NaN           NaN   NaN      1.406       0.403   \n",
       "Total Volume 18249.000    NaN           NaN   NaN 850644.013 3453545.355   \n",
       "4046         18249.000    NaN           NaN   NaN 293008.425 1264989.082   \n",
       "4225         18249.000    NaN           NaN   NaN 295154.568 1204120.401   \n",
       "4770         18249.000    NaN           NaN   NaN  22839.736  107464.068   \n",
       "Total Bags   18249.000    NaN           NaN   NaN 239639.202  986242.399   \n",
       "Small Bags   18249.000    NaN           NaN   NaN 182194.687  746178.515   \n",
       "Large Bags   18249.000    NaN           NaN   NaN  54338.088  243965.965   \n",
       "XLarge Bags  18249.000    NaN           NaN   NaN   3106.427   17692.895   \n",
       "type             18249      2  conventional  9126        NaN         NaN   \n",
       "year         18249.000    NaN           NaN   NaN   2016.148       0.940   \n",
       "region           18249     54        Albany   338        NaN         NaN   \n",
       "\n",
       "                  min       25%        50%        75%          max  \n",
       "AveragePrice    0.440     1.100      1.370      1.660        3.250  \n",
       "Total Volume   84.560 10838.580 107376.760 432962.290 62505646.520  \n",
       "4046            0.000   854.070   8645.300 111020.200 22743616.170  \n",
       "4225            0.000  3008.780  29061.020 150206.860 20470572.610  \n",
       "4770            0.000     0.000    184.990   6243.420  2546439.110  \n",
       "Total Bags      0.000  5088.640  39743.830 110783.370 19373134.370  \n",
       "Small Bags      0.000  2849.420  26362.820  83337.670 13384586.800  \n",
       "Large Bags      0.000   127.470   2647.710  22029.250  5719096.610  \n",
       "XLarge Bags     0.000     0.000      0.000    132.500   551693.650  \n",
       "type              NaN       NaN        NaN        NaN          NaN  \n",
       "year         2015.000  2015.000   2016.000   2017.000     2018.000  \n",
       "region            NaN       NaN        NaN        NaN          NaN  "
      ]
     },
     "execution_count": 27,
     "metadata": {},
     "output_type": "execute_result"
    }
   ],
   "source": [
    "# to get statistical analysis of the data\n",
    "df.describe(include ='all').T"
   ]
  },
  {
   "cell_type": "code",
   "execution_count": 31,
   "id": "a63d78fe",
   "metadata": {},
   "outputs": [
    {
     "data": {
      "image/png": "[encoded data removed]",
      "text/plain": [
       "<Figure size 1000x1500 with 10 Axes>"
      ]
     },
     "metadata": {},
     "output_type": "display_data"
    }
   ],
   "source": [
    "# to plot distplot \n",
    "columns = ['AveragePrice','Total Volume','4046','4225','4770','Total Bags','Small Bags','Large Bags','XLarge Bags','year']\n",
    "plt.figure(figsize = (10,15))\n",
    "for i in range(len(columns)):\n",
    "    plt.subplot(9,2, i+1)\n",
    "    sns.distplot(df[columns[i]],color = 'g');\n",
    "plt.tight_layout()\n"
   ]
  },
  {
   "cell_type": "code",
   "execution_count": 32,
   "id": "35d5550e",
   "metadata": {},
   "outputs": [
    {
     "data": {
      "text/plain": [
       "<AxesSubplot:xlabel='type', ylabel='count'>"
      ]
     },
     "execution_count": 32,
     "metadata": {},
     "output_type": "execute_result"
    },
    {
     "data": {
      "image/png": "[encoded data removed]",
      "text/plain": [
       "<Figure size 500x300 with 1 Axes>"
      ]
     },
     "metadata": {},
     "output_type": "display_data"
    }
   ],
   "source": [
    "#to plot count plot\n",
    "plt.figure(figsize=(5,3))\n",
    "sns.countplot(df['type'],label='count')"
   ]
  },
  {
   "cell_type": "code",
   "execution_count": 33,
   "id": "0c2f4844",
   "metadata": {},
   "outputs": [
    {
     "data": {
      "image/png": "[encoded data removed]",
      "text/plain": [
       "<Figure size 2000x500 with 1 Axes>"
      ]
     },
     "metadata": {},
     "output_type": "display_data"
    }
   ],
   "source": [
    "#to plot count plot\n",
    "plt.figure(figsize=(20,5))\n",
    "sns.countplot(df['region'],label='count')\n",
    "plt.title('Region')\n",
    "plt.tight_layout()\n",
    "plt.xticks(rotation=90)\n",
    "plt.ylabel(\"Number of rows\")\n",
    "plt.show()"
   ]
  },
  {
   "cell_type": "code",
   "execution_count": 34,
   "id": "2f79e3f6",
   "metadata": {},
   "outputs": [],
   "source": [
    "#to convert string data in to numerical\n",
    "le = LabelEncoder()\n",
    "df['type'] = le.fit_transform(df['type'])\n",
    "df['region'] = le.fit_transform(df['region'])"
   ]
  },
  {
   "cell_type": "code",
   "execution_count": 35,
   "id": "116ad0a7",
   "metadata": {},
   "outputs": [
    {
     "data": {
      "text/html": [
       "<div>\n",
       "<style scoped>\n",
       "    .dataframe tbody tr th:only-of-type {\n",
       "        vertical-align: middle;\n",
       "    }\n",
       "\n",
       "    .dataframe tbody tr th {\n",
       "        vertical-align: top;\n",
       "    }\n",
       "\n",
       "    .dataframe thead th {\n",
       "        text-align: right;\n",
       "    }\n",
       "</style>\n",
       "<table border=\"1\" class=\"dataframe\">\n",
       "  <thead>\n",
       "    <tr style=\"text-align: right;\">\n",
       "      <th></th>\n",
       "      <th>AveragePrice</th>\n",
       "      <th>Total Volume</th>\n",
       "      <th>4046</th>\n",
       "      <th>4225</th>\n",
       "      <th>4770</th>\n",
       "      <th>Total Bags</th>\n",
       "      <th>Small Bags</th>\n",
       "      <th>Large Bags</th>\n",
       "      <th>XLarge Bags</th>\n",
       "      <th>type</th>\n",
       "      <th>year</th>\n",
       "      <th>region</th>\n",
       "    </tr>\n",
       "  </thead>\n",
       "  <tbody>\n",
       "    <tr>\n",
       "      <th>8730</th>\n",
       "      <td>1.010</td>\n",
       "      <td>382746.420</td>\n",
       "      <td>76054.730</td>\n",
       "      <td>122475.030</td>\n",
       "      <td>6496.130</td>\n",
       "      <td>177720.530</td>\n",
       "      <td>75499.860</td>\n",
       "      <td>101806.230</td>\n",
       "      <td>414.440</td>\n",
       "      <td>0</td>\n",
       "      <td>2018</td>\n",
       "      <td>21</td>\n",
       "    </tr>\n",
       "  </tbody>\n",
       "</table>\n",
       "</div>"
      ],
      "text/plain": [
       "      AveragePrice  Total Volume      4046       4225     4770  Total Bags  \\\n",
       "8730         1.010    382746.420 76054.730 122475.030 6496.130  177720.530   \n",
       "\n",
       "      Small Bags  Large Bags  XLarge Bags  type  year  region  \n",
       "8730   75499.860  101806.230      414.440     0  2018      21  "
      ]
     },
     "execution_count": 35,
     "metadata": {},
     "output_type": "execute_result"
    }
   ],
   "source": [
    "# to check the data after conversion\n",
    "df.sample()"
   ]
  },
  {
   "cell_type": "code",
   "execution_count": 36,
   "id": "553eb275",
   "metadata": {},
   "outputs": [
    {
     "name": "stdout",
     "output_type": "stream",
     "text": [
      "       AveragePrice  Total Volume  4046  4225  4770  Total Bags  Small Bags  \\\n",
      "0             0.317         0.001 0.000 0.003 0.000       0.000       0.001   \n",
      "1             0.324         0.001 0.000 0.002 0.000       0.000       0.001   \n",
      "2             0.174         0.002 0.000 0.005 0.000       0.000       0.001   \n",
      "3             0.228         0.001 0.000 0.004 0.000       0.000       0.000   \n",
      "4             0.299         0.001 0.000 0.002 0.000       0.000       0.000   \n",
      "...             ...           ...   ...   ...   ...         ...         ...   \n",
      "18244         0.423         0.000 0.000 0.000 0.000       0.001       0.001   \n",
      "18245         0.452         0.000 0.000 0.000 0.000       0.000       0.001   \n",
      "18246         0.509         0.000 0.000 0.000 0.000       0.000       0.001   \n",
      "18247         0.530         0.000 0.000 0.000 0.000       0.001       0.001   \n",
      "18248         0.420         0.000 0.000 0.000 0.000       0.001       0.001   \n",
      "\n",
      "       Large Bags  XLarge Bags  type  year  region  \n",
      "0           0.000        0.000 0.000 0.000   0.000  \n",
      "1           0.000        0.000 0.000 0.000   0.000  \n",
      "2           0.000        0.000 0.000 0.000   0.000  \n",
      "3           0.000        0.000 0.000 0.000   0.000  \n",
      "4           0.000        0.000 0.000 0.000   0.000  \n",
      "...           ...          ...   ...   ...     ...  \n",
      "18244       0.000        0.000 1.000 1.000   1.000  \n",
      "18245       0.000        0.000 1.000 1.000   1.000  \n",
      "18246       0.000        0.000 1.000 1.000   1.000  \n",
      "18247       0.000        0.000 1.000 1.000   1.000  \n",
      "18248       0.000        0.000 1.000 1.000   1.000  \n",
      "\n",
      "[18249 rows x 12 columns]\n"
     ]
    }
   ],
   "source": [
    "# copy the data\n",
    "df1 = df.copy()\n",
    " # since dataset is vastly spread and there is lot of variation among mean of each column,shows us the need of regularization \n",
    "# apply normalization techniques(min max)\n",
    "for column in df1.columns:\n",
    "    df1[column] = (df1[column] - df1[column].min()) / (df1[column].max() - df1[column].min())    \n",
    "  \n",
    "  #view normalized data\n",
    "\n",
    "print(df1)"
   ]
  },
  {
   "cell_type": "code",
   "execution_count": 37,
   "id": "a7cfa16a",
   "metadata": {},
   "outputs": [
    {
     "data": {
      "text/html": [
       "<div>\n",
       "<style scoped>\n",
       "    .dataframe tbody tr th:only-of-type {\n",
       "        vertical-align: middle;\n",
       "    }\n",
       "\n",
       "    .dataframe tbody tr th {\n",
       "        vertical-align: top;\n",
       "    }\n",
       "\n",
       "    .dataframe thead th {\n",
       "        text-align: right;\n",
       "    }\n",
       "</style>\n",
       "<table border=\"1\" class=\"dataframe\">\n",
       "  <thead>\n",
       "    <tr style=\"text-align: right;\">\n",
       "      <th></th>\n",
       "      <th>AveragePrice</th>\n",
       "      <th>Total Volume</th>\n",
       "      <th>4046</th>\n",
       "      <th>4225</th>\n",
       "      <th>4770</th>\n",
       "      <th>Total Bags</th>\n",
       "      <th>Small Bags</th>\n",
       "      <th>Large Bags</th>\n",
       "      <th>XLarge Bags</th>\n",
       "      <th>type</th>\n",
       "      <th>year</th>\n",
       "      <th>region</th>\n",
       "    </tr>\n",
       "  </thead>\n",
       "  <tbody>\n",
       "    <tr>\n",
       "      <th>0</th>\n",
       "      <td>0.317</td>\n",
       "      <td>0.001</td>\n",
       "      <td>0.000</td>\n",
       "      <td>0.003</td>\n",
       "      <td>0.000</td>\n",
       "      <td>0.000</td>\n",
       "      <td>0.001</td>\n",
       "      <td>0.000</td>\n",
       "      <td>0.000</td>\n",
       "      <td>0.000</td>\n",
       "      <td>0.000</td>\n",
       "      <td>0.000</td>\n",
       "    </tr>\n",
       "    <tr>\n",
       "      <th>1</th>\n",
       "      <td>0.324</td>\n",
       "      <td>0.001</td>\n",
       "      <td>0.000</td>\n",
       "      <td>0.002</td>\n",
       "      <td>0.000</td>\n",
       "      <td>0.000</td>\n",
       "      <td>0.001</td>\n",
       "      <td>0.000</td>\n",
       "      <td>0.000</td>\n",
       "      <td>0.000</td>\n",
       "      <td>0.000</td>\n",
       "      <td>0.000</td>\n",
       "    </tr>\n",
       "  </tbody>\n",
       "</table>\n",
       "</div>"
      ],
      "text/plain": [
       "   AveragePrice  Total Volume  4046  4225  4770  Total Bags  Small Bags  \\\n",
       "0         0.317         0.001 0.000 0.003 0.000       0.000       0.001   \n",
       "1         0.324         0.001 0.000 0.002 0.000       0.000       0.001   \n",
       "\n",
       "   Large Bags  XLarge Bags  type  year  region  \n",
       "0       0.000        0.000 0.000 0.000   0.000  \n",
       "1       0.000        0.000 0.000 0.000   0.000  "
      ]
     },
     "execution_count": 37,
     "metadata": {},
     "output_type": "execute_result"
    }
   ],
   "source": [
    "#to check dataset after regularlization\n",
    "df1.head(2)"
   ]
  },
  {
   "cell_type": "code",
   "execution_count": 38,
   "id": "fdebbfa8",
   "metadata": {},
   "outputs": [
    {
     "data": {
      "text/html": [
       "<div>\n",
       "<style scoped>\n",
       "    .dataframe tbody tr th:only-of-type {\n",
       "        vertical-align: middle;\n",
       "    }\n",
       "\n",
       "    .dataframe tbody tr th {\n",
       "        vertical-align: top;\n",
       "    }\n",
       "\n",
       "    .dataframe thead th {\n",
       "        text-align: right;\n",
       "    }\n",
       "</style>\n",
       "<table border=\"1\" class=\"dataframe\">\n",
       "  <thead>\n",
       "    <tr style=\"text-align: right;\">\n",
       "      <th></th>\n",
       "      <th>AveragePrice</th>\n",
       "      <th>Total Volume</th>\n",
       "      <th>4046</th>\n",
       "      <th>4225</th>\n",
       "      <th>4770</th>\n",
       "      <th>Total Bags</th>\n",
       "      <th>Small Bags</th>\n",
       "      <th>Large Bags</th>\n",
       "      <th>XLarge Bags</th>\n",
       "      <th>type</th>\n",
       "      <th>year</th>\n",
       "      <th>region</th>\n",
       "    </tr>\n",
       "  </thead>\n",
       "  <tbody>\n",
       "    <tr>\n",
       "      <th>AveragePrice</th>\n",
       "      <td>1.000</td>\n",
       "      <td>-0.193</td>\n",
       "      <td>-0.208</td>\n",
       "      <td>-0.173</td>\n",
       "      <td>-0.179</td>\n",
       "      <td>-0.177</td>\n",
       "      <td>-0.175</td>\n",
       "      <td>-0.173</td>\n",
       "      <td>-0.118</td>\n",
       "      <td>0.616</td>\n",
       "      <td>0.093</td>\n",
       "      <td>-0.012</td>\n",
       "    </tr>\n",
       "    <tr>\n",
       "      <th>Total Volume</th>\n",
       "      <td>-0.193</td>\n",
       "      <td>1.000</td>\n",
       "      <td>0.978</td>\n",
       "      <td>0.974</td>\n",
       "      <td>0.872</td>\n",
       "      <td>0.963</td>\n",
       "      <td>0.967</td>\n",
       "      <td>0.881</td>\n",
       "      <td>0.747</td>\n",
       "      <td>-0.232</td>\n",
       "      <td>0.017</td>\n",
       "      <td>0.174</td>\n",
       "    </tr>\n",
       "    <tr>\n",
       "      <th>4046</th>\n",
       "      <td>-0.208</td>\n",
       "      <td>0.978</td>\n",
       "      <td>1.000</td>\n",
       "      <td>0.926</td>\n",
       "      <td>0.833</td>\n",
       "      <td>0.920</td>\n",
       "      <td>0.925</td>\n",
       "      <td>0.839</td>\n",
       "      <td>0.699</td>\n",
       "      <td>-0.226</td>\n",
       "      <td>0.003</td>\n",
       "      <td>0.192</td>\n",
       "    </tr>\n",
       "    <tr>\n",
       "      <th>4225</th>\n",
       "      <td>-0.173</td>\n",
       "      <td>0.974</td>\n",
       "      <td>0.926</td>\n",
       "      <td>1.000</td>\n",
       "      <td>0.888</td>\n",
       "      <td>0.906</td>\n",
       "      <td>0.916</td>\n",
       "      <td>0.810</td>\n",
       "      <td>0.689</td>\n",
       "      <td>-0.232</td>\n",
       "      <td>-0.010</td>\n",
       "      <td>0.146</td>\n",
       "    </tr>\n",
       "    <tr>\n",
       "      <th>4770</th>\n",
       "      <td>-0.179</td>\n",
       "      <td>0.872</td>\n",
       "      <td>0.833</td>\n",
       "      <td>0.888</td>\n",
       "      <td>1.000</td>\n",
       "      <td>0.792</td>\n",
       "      <td>0.803</td>\n",
       "      <td>0.698</td>\n",
       "      <td>0.680</td>\n",
       "      <td>-0.210</td>\n",
       "      <td>-0.037</td>\n",
       "      <td>0.095</td>\n",
       "    </tr>\n",
       "    <tr>\n",
       "      <th>Total Bags</th>\n",
       "      <td>-0.177</td>\n",
       "      <td>0.963</td>\n",
       "      <td>0.920</td>\n",
       "      <td>0.906</td>\n",
       "      <td>0.792</td>\n",
       "      <td>1.000</td>\n",
       "      <td>0.994</td>\n",
       "      <td>0.943</td>\n",
       "      <td>0.804</td>\n",
       "      <td>-0.218</td>\n",
       "      <td>0.072</td>\n",
       "      <td>0.175</td>\n",
       "    </tr>\n",
       "    <tr>\n",
       "      <th>Small Bags</th>\n",
       "      <td>-0.175</td>\n",
       "      <td>0.967</td>\n",
       "      <td>0.925</td>\n",
       "      <td>0.916</td>\n",
       "      <td>0.803</td>\n",
       "      <td>0.994</td>\n",
       "      <td>1.000</td>\n",
       "      <td>0.903</td>\n",
       "      <td>0.807</td>\n",
       "      <td>-0.221</td>\n",
       "      <td>0.064</td>\n",
       "      <td>0.165</td>\n",
       "    </tr>\n",
       "    <tr>\n",
       "      <th>Large Bags</th>\n",
       "      <td>-0.173</td>\n",
       "      <td>0.881</td>\n",
       "      <td>0.839</td>\n",
       "      <td>0.810</td>\n",
       "      <td>0.698</td>\n",
       "      <td>0.943</td>\n",
       "      <td>0.903</td>\n",
       "      <td>1.000</td>\n",
       "      <td>0.711</td>\n",
       "      <td>-0.193</td>\n",
       "      <td>0.088</td>\n",
       "      <td>0.199</td>\n",
       "    </tr>\n",
       "    <tr>\n",
       "      <th>XLarge Bags</th>\n",
       "      <td>-0.118</td>\n",
       "      <td>0.747</td>\n",
       "      <td>0.699</td>\n",
       "      <td>0.689</td>\n",
       "      <td>0.680</td>\n",
       "      <td>0.804</td>\n",
       "      <td>0.807</td>\n",
       "      <td>0.711</td>\n",
       "      <td>1.000</td>\n",
       "      <td>-0.175</td>\n",
       "      <td>0.081</td>\n",
       "      <td>0.082</td>\n",
       "    </tr>\n",
       "    <tr>\n",
       "      <th>type</th>\n",
       "      <td>0.616</td>\n",
       "      <td>-0.232</td>\n",
       "      <td>-0.226</td>\n",
       "      <td>-0.232</td>\n",
       "      <td>-0.210</td>\n",
       "      <td>-0.218</td>\n",
       "      <td>-0.221</td>\n",
       "      <td>-0.193</td>\n",
       "      <td>-0.175</td>\n",
       "      <td>1.000</td>\n",
       "      <td>-0.000</td>\n",
       "      <td>-0.000</td>\n",
       "    </tr>\n",
       "    <tr>\n",
       "      <th>year</th>\n",
       "      <td>0.093</td>\n",
       "      <td>0.017</td>\n",
       "      <td>0.003</td>\n",
       "      <td>-0.010</td>\n",
       "      <td>-0.037</td>\n",
       "      <td>0.072</td>\n",
       "      <td>0.064</td>\n",
       "      <td>0.088</td>\n",
       "      <td>0.081</td>\n",
       "      <td>-0.000</td>\n",
       "      <td>1.000</td>\n",
       "      <td>-0.000</td>\n",
       "    </tr>\n",
       "    <tr>\n",
       "      <th>region</th>\n",
       "      <td>-0.012</td>\n",
       "      <td>0.174</td>\n",
       "      <td>0.192</td>\n",
       "      <td>0.146</td>\n",
       "      <td>0.095</td>\n",
       "      <td>0.175</td>\n",
       "      <td>0.165</td>\n",
       "      <td>0.199</td>\n",
       "      <td>0.082</td>\n",
       "      <td>-0.000</td>\n",
       "      <td>-0.000</td>\n",
       "      <td>1.000</td>\n",
       "    </tr>\n",
       "  </tbody>\n",
       "</table>\n",
       "</div>"
      ],
      "text/plain": [
       "              AveragePrice  Total Volume   4046   4225   4770  Total Bags  \\\n",
       "AveragePrice         1.000        -0.193 -0.208 -0.173 -0.179      -0.177   \n",
       "Total Volume        -0.193         1.000  0.978  0.974  0.872       0.963   \n",
       "4046                -0.208         0.978  1.000  0.926  0.833       0.920   \n",
       "4225                -0.173         0.974  0.926  1.000  0.888       0.906   \n",
       "4770                -0.179         0.872  0.833  0.888  1.000       0.792   \n",
       "Total Bags          -0.177         0.963  0.920  0.906  0.792       1.000   \n",
       "Small Bags          -0.175         0.967  0.925  0.916  0.803       0.994   \n",
       "Large Bags          -0.173         0.881  0.839  0.810  0.698       0.943   \n",
       "XLarge Bags         -0.118         0.747  0.699  0.689  0.680       0.804   \n",
       "type                 0.616        -0.232 -0.226 -0.232 -0.210      -0.218   \n",
       "year                 0.093         0.017  0.003 -0.010 -0.037       0.072   \n",
       "region              -0.012         0.174  0.192  0.146  0.095       0.175   \n",
       "\n",
       "              Small Bags  Large Bags  XLarge Bags   type   year  region  \n",
       "AveragePrice      -0.175      -0.173       -0.118  0.616  0.093  -0.012  \n",
       "Total Volume       0.967       0.881        0.747 -0.232  0.017   0.174  \n",
       "4046               0.925       0.839        0.699 -0.226  0.003   0.192  \n",
       "4225               0.916       0.810        0.689 -0.232 -0.010   0.146  \n",
       "4770               0.803       0.698        0.680 -0.210 -0.037   0.095  \n",
       "Total Bags         0.994       0.943        0.804 -0.218  0.072   0.175  \n",
       "Small Bags         1.000       0.903        0.807 -0.221  0.064   0.165  \n",
       "Large Bags         0.903       1.000        0.711 -0.193  0.088   0.199  \n",
       "XLarge Bags        0.807       0.711        1.000 -0.175  0.081   0.082  \n",
       "type              -0.221      -0.193       -0.175  1.000 -0.000  -0.000  \n",
       "year               0.064       0.088        0.081 -0.000  1.000  -0.000  \n",
       "region             0.165       0.199        0.082 -0.000 -0.000   1.000  "
      ]
     },
     "execution_count": 38,
     "metadata": {},
     "output_type": "execute_result"
    }
   ],
   "source": [
    "# to analyse the correlation of each column\n",
    "df.corr()"
   ]
  },
  {
   "cell_type": "code",
   "execution_count": 39,
   "id": "fd5c62a0",
   "metadata": {},
   "outputs": [
    {
     "data": {
      "text/plain": [
       "<AxesSubplot:>"
      ]
     },
     "execution_count": 39,
     "metadata": {},
     "output_type": "execute_result"
    },
    {
     "data": {
      "image/png": "[encoded data removed]",
      "text/plain": [
       "<Figure size 1200x1200 with 2 Axes>"
      ]
     },
     "metadata": {},
     "output_type": "display_data"
    }
   ],
   "source": [
    "plt.figure(figsize=(12,12))\n",
    "sns.heatmap(df1.corr(),color ='k',annot=True)"
   ]
  },
  {
   "cell_type": "code",
   "execution_count": 40,
   "id": "8e1179d7",
   "metadata": {},
   "outputs": [
    {
     "data": {
      "text/html": [
       "<div>\n",
       "<style scoped>\n",
       "    .dataframe tbody tr th:only-of-type {\n",
       "        vertical-align: middle;\n",
       "    }\n",
       "\n",
       "    .dataframe tbody tr th {\n",
       "        vertical-align: top;\n",
       "    }\n",
       "\n",
       "    .dataframe thead th {\n",
       "        text-align: right;\n",
       "    }\n",
       "</style>\n",
       "<table border=\"1\" class=\"dataframe\">\n",
       "  <thead>\n",
       "    <tr style=\"text-align: right;\">\n",
       "      <th></th>\n",
       "      <th>AveragePrice</th>\n",
       "      <th>4046</th>\n",
       "      <th>4225</th>\n",
       "      <th>4770</th>\n",
       "      <th>Small Bags</th>\n",
       "      <th>Large Bags</th>\n",
       "      <th>XLarge Bags</th>\n",
       "      <th>type</th>\n",
       "      <th>year</th>\n",
       "      <th>region</th>\n",
       "    </tr>\n",
       "  </thead>\n",
       "  <tbody>\n",
       "    <tr>\n",
       "      <th>0</th>\n",
       "      <td>0.317</td>\n",
       "      <td>0.000</td>\n",
       "      <td>0.003</td>\n",
       "      <td>0.000</td>\n",
       "      <td>0.001</td>\n",
       "      <td>0.000</td>\n",
       "      <td>0.000</td>\n",
       "      <td>0.000</td>\n",
       "      <td>0.000</td>\n",
       "      <td>0.000</td>\n",
       "    </tr>\n",
       "    <tr>\n",
       "      <th>1</th>\n",
       "      <td>0.324</td>\n",
       "      <td>0.000</td>\n",
       "      <td>0.002</td>\n",
       "      <td>0.000</td>\n",
       "      <td>0.001</td>\n",
       "      <td>0.000</td>\n",
       "      <td>0.000</td>\n",
       "      <td>0.000</td>\n",
       "      <td>0.000</td>\n",
       "      <td>0.000</td>\n",
       "    </tr>\n",
       "    <tr>\n",
       "      <th>2</th>\n",
       "      <td>0.174</td>\n",
       "      <td>0.000</td>\n",
       "      <td>0.005</td>\n",
       "      <td>0.000</td>\n",
       "      <td>0.001</td>\n",
       "      <td>0.000</td>\n",
       "      <td>0.000</td>\n",
       "      <td>0.000</td>\n",
       "      <td>0.000</td>\n",
       "      <td>0.000</td>\n",
       "    </tr>\n",
       "  </tbody>\n",
       "</table>\n",
       "</div>"
      ],
      "text/plain": [
       "   AveragePrice  4046  4225  4770  Small Bags  Large Bags  XLarge Bags  type  \\\n",
       "0         0.317 0.000 0.003 0.000       0.001       0.000        0.000 0.000   \n",
       "1         0.324 0.000 0.002 0.000       0.001       0.000        0.000 0.000   \n",
       "2         0.174 0.000 0.005 0.000       0.001       0.000        0.000 0.000   \n",
       "\n",
       "   year  region  \n",
       "0 0.000   0.000  \n",
       "1 0.000   0.000  \n",
       "2 0.000   0.000  "
      ]
     },
     "execution_count": 40,
     "metadata": {},
     "output_type": "execute_result"
    }
   ],
   "source": [
    "#dropping the columns with very high multicollinearity\n",
    "df1.drop(['Total Bags','Total Volume'],axis=1,inplace=True)\n",
    "df1.head(3)"
   ]
  },
  {
   "cell_type": "code",
   "execution_count": 41,
   "id": "10efb14a",
   "metadata": {},
   "outputs": [
    {
     "data": {
      "text/plain": [
       "AveragePrice    0.580\n",
       "4046            8.648\n",
       "4225            8.942\n",
       "4770           10.159\n",
       "Small Bags      9.541\n",
       "Large Bags      9.796\n",
       "XLarge Bags    13.140\n",
       "type            0.000\n",
       "year            0.215\n",
       "region          0.000\n",
       "dtype: float64"
      ]
     },
     "execution_count": 41,
     "metadata": {},
     "output_type": "execute_result"
    }
   ],
   "source": [
    "# to check skewness in the data\n",
    "df1.skew()"
   ]
  },
  {
   "cell_type": "code",
   "execution_count": 42,
   "id": "2a5b3dc7",
   "metadata": {},
   "outputs": [],
   "source": [
    "#to remove the skewness in the dataset\n",
    "from sklearn.preprocessing import power_transform\n",
    "df_new = power_transform(df1)"
   ]
  },
  {
   "cell_type": "code",
   "execution_count": 43,
   "id": "6a30543c",
   "metadata": {},
   "outputs": [
    {
     "data": {
      "text/html": [
       "<div>\n",
       "<style scoped>\n",
       "    .dataframe tbody tr th:only-of-type {\n",
       "        vertical-align: middle;\n",
       "    }\n",
       "\n",
       "    .dataframe tbody tr th {\n",
       "        vertical-align: top;\n",
       "    }\n",
       "\n",
       "    .dataframe thead th {\n",
       "        text-align: right;\n",
       "    }\n",
       "</style>\n",
       "<table border=\"1\" class=\"dataframe\">\n",
       "  <thead>\n",
       "    <tr style=\"text-align: right;\">\n",
       "      <th></th>\n",
       "      <th>AveragePrice</th>\n",
       "      <th>4046</th>\n",
       "      <th>4225</th>\n",
       "      <th>4770</th>\n",
       "      <th>Small Bags</th>\n",
       "      <th>Large Bags</th>\n",
       "      <th>XLarge Bags</th>\n",
       "      <th>type</th>\n",
       "      <th>year</th>\n",
       "      <th>region</th>\n",
       "    </tr>\n",
       "  </thead>\n",
       "  <tbody>\n",
       "    <tr>\n",
       "      <th>0</th>\n",
       "      <td>-0.088</td>\n",
       "      <td>-0.643</td>\n",
       "      <td>-0.278</td>\n",
       "      <td>-0.571</td>\n",
       "      <td>-0.670</td>\n",
       "      <td>-0.665</td>\n",
       "      <td>-0.462</td>\n",
       "      <td>-1.000</td>\n",
       "      <td>-1.286</td>\n",
       "      <td>-1.752</td>\n",
       "    </tr>\n",
       "    <tr>\n",
       "      <th>1</th>\n",
       "      <td>-0.036</td>\n",
       "      <td>-0.646</td>\n",
       "      <td>-0.357</td>\n",
       "      <td>-0.570</td>\n",
       "      <td>-0.657</td>\n",
       "      <td>-0.665</td>\n",
       "      <td>-0.462</td>\n",
       "      <td>-1.000</td>\n",
       "      <td>-1.286</td>\n",
       "      <td>-1.752</td>\n",
       "    </tr>\n",
       "    <tr>\n",
       "      <th>2</th>\n",
       "      <td>-1.276</td>\n",
       "      <td>-0.645</td>\n",
       "      <td>0.126</td>\n",
       "      <td>-0.561</td>\n",
       "      <td>-0.678</td>\n",
       "      <td>-0.665</td>\n",
       "      <td>-0.462</td>\n",
       "      <td>-1.000</td>\n",
       "      <td>-1.286</td>\n",
       "      <td>-1.752</td>\n",
       "    </tr>\n",
       "  </tbody>\n",
       "</table>\n",
       "</div>"
      ],
      "text/plain": [
       "   AveragePrice   4046   4225   4770  Small Bags  Large Bags  XLarge Bags  \\\n",
       "0        -0.088 -0.643 -0.278 -0.571      -0.670      -0.665       -0.462   \n",
       "1        -0.036 -0.646 -0.357 -0.570      -0.657      -0.665       -0.462   \n",
       "2        -1.276 -0.645  0.126 -0.561      -0.678      -0.665       -0.462   \n",
       "\n",
       "    type   year  region  \n",
       "0 -1.000 -1.286  -1.752  \n",
       "1 -1.000 -1.286  -1.752  \n",
       "2 -1.000 -1.286  -1.752  "
      ]
     },
     "execution_count": 43,
     "metadata": {},
     "output_type": "execute_result"
    }
   ],
   "source": [
    "#creating new dataset after removing skewness and saving it to 'df'\n",
    "df = pd.DataFrame(df_new , columns = df1.columns)\n",
    "df.head(3)\n"
   ]
  },
  {
   "cell_type": "code",
   "execution_count": 44,
   "id": "10121414",
   "metadata": {},
   "outputs": [
    {
     "data": {
      "text/plain": [
       "AveragePrice    0.013\n",
       "4046            1.618\n",
       "4225            1.384\n",
       "4770            1.795\n",
       "Small Bags      1.428\n",
       "Large Bags      1.555\n",
       "XLarge Bags     2.156\n",
       "type            0.000\n",
       "year           -0.016\n",
       "region         -0.060\n",
       "dtype: float64"
      ]
     },
     "execution_count": 44,
     "metadata": {},
     "output_type": "execute_result"
    }
   ],
   "source": [
    "# to checking dataset afterremoving skewness\n",
    "df.skew()"
   ]
  },
  {
   "cell_type": "code",
   "execution_count": 45,
   "id": "d8b884c3",
   "metadata": {
    "scrolled": true
   },
   "outputs": [
    {
     "data": {
      "text/plain": [
       "<AxesSubplot:>"
      ]
     },
     "execution_count": 45,
     "metadata": {},
     "output_type": "execute_result"
    },
    {
     "data": {
      "image/png": "[encoded data removed]",
      "text/plain": [
       "<Figure size 2000x1000 with 1 Axes>"
      ]
     },
     "metadata": {},
     "output_type": "display_data"
    }
   ],
   "source": [
    "# to find out outliers in the dataset\n",
    "df.plot(kind='box',figsize=(20,10))"
   ]
  },
  {
   "cell_type": "code",
   "execution_count": 46,
   "id": "f103f8f2",
   "metadata": {},
   "outputs": [
    {
     "data": {
      "text/plain": [
       "AveragePrice    False\n",
       "4046             True\n",
       "4225             True\n",
       "4770             True\n",
       "Small Bags       True\n",
       "Large Bags       True\n",
       "XLarge Bags     False\n",
       "type             True\n",
       "year             True\n",
       "region           True\n",
       "dtype: bool"
      ]
     },
     "execution_count": 46,
     "metadata": {},
     "output_type": "execute_result"
    }
   ],
   "source": [
    "#to check for outliers through zscore \n",
    "from scipy.stats import zscore\n",
    "(np.abs(zscore(df)) < 3).all()"
   ]
  },
  {
   "cell_type": "code",
   "execution_count": 47,
   "id": "5381b518",
   "metadata": {},
   "outputs": [
    {
     "data": {
      "text/plain": [
       "(18249, 10)"
      ]
     },
     "execution_count": 47,
     "metadata": {},
     "output_type": "execute_result"
    }
   ],
   "source": [
    "#to remove outliers in data set through zscore\n",
    "z = np.abs(zscore(df))\n",
    "z.shape"
   ]
  },
  {
   "cell_type": "code",
   "execution_count": 48,
   "id": "15cc3a08",
   "metadata": {},
   "outputs": [
    {
     "name": "stdout",
     "output_type": "stream",
     "text": [
      "(array([  573,   679,   683,   684,   690,   691,   695,   716,   719,\n",
      "         723,   780,   781,   782,   783,   784,   785,   787,   788,\n",
      "         789,   790,   791,   792,   793,   794,   795,   796,   797,\n",
      "         798,   799,   800,   801,   802,   803,   805,   807,   809,\n",
      "         812,   815,   816,   820,   823,   827,   936,   937,  2340,\n",
      "        2341,  2652,  2653,  2654,  2655,  2656,  2657,  2658,  2659,\n",
      "        2660,  2661,  2662,  2663,  2664,  2665,  2666,  2667,  2668,\n",
      "        2669,  2670,  2671,  2672,  2673,  2674,  2675,  2676,  2677,\n",
      "        2678,  2679,  2680,  2681,  2682,  2683,  2684,  2686,  2687,\n",
      "        2688,  2690,  2692,  2694,  2695,  2699,  2703,  2757,  3120,\n",
      "        3121,  3122,  3123,  3124,  3125,  3126,  3127,  3128,  3129,\n",
      "        3130,  3131,  3132,  3133,  3134,  3135,  3136,  3137,  3138,\n",
      "        3139,  3140,  3141,  3142,  3143,  3144,  3145,  3146,  3147,\n",
      "        3148,  3149,  3150,  3151,  3152,  3153,  3154,  3155,  3156,\n",
      "        3157,  3158,  3159,  3160,  3161,  3162,  3163,  3166,  3169,\n",
      "        3170,  3405,  3426,  3427,  3506,  3507,  3508,  3510,  3511,\n",
      "        3513,  3516,  3517,  3520,  3523,  3524,  3526,  3527,  3530,\n",
      "        3532,  3535,  3600,  3601,  3605,  3606,  3607,  3608,  3609,\n",
      "        3610,  3611,  3612,  3613,  3614,  3615,  3616,  3617,  3618,\n",
      "        3619,  3620,  3621,  3622,  3623,  3624,  3625,  3626,  3627,\n",
      "        3628,  3629,  3630,  3631,  3632,  3633,  3634,  3635,  3636,\n",
      "        3637,  3638,  3639,  3769,  3770,  3790,  3791,  3792,  3952,\n",
      "        3953,  3954,  3955,  3956,  3957,  3958,  3959,  3960,  3961,\n",
      "        3962,  3963,  3964,  3965,  3966,  3967,  3968,  3969,  3970,\n",
      "        3971,  3972,  3973,  3974,  3975,  3976,  3977,  3978,  3979,\n",
      "        3980,  3981,  3982,  3983,  3984,  3985,  3987,  3988,  3989,\n",
      "        3990,  3991,  3992,  3993,  3994,  3995,  3998,  4001,  4002,\n",
      "        4079,  4081,  4125,  4129,  4130,  4131,  4132,  4133,  4134,\n",
      "        4135,  4136,  4137,  4139,  4333,  4334,  4336,  4337,  4338,\n",
      "        4339,  4340,  4341,  4342,  4343,  4344,  4345,  4445,  4646,\n",
      "        4648,  4649,  4650,  4651,  4652,  4653,  4654,  4656,  4657,\n",
      "        5148,  5149,  5150,  5156,  5157,  5158,  5160,  5161,  5162,\n",
      "        5164,  5165,  5170,  5171,  5172,  5173,  5174,  5175,  5176,\n",
      "        5177,  5178,  5179,  5193,  5194,  5195,  5196,  5218,  5219,\n",
      "        5220,  5221,  5222,  5223,  5224,  5225,  5226,  5227,  5228,\n",
      "        5229,  5230,  5231,  5232,  5332,  5433,  5460,  5461,  5462,\n",
      "        5463,  5464,  5465,  5466,  5467,  5468,  5469,  5470,  5471,\n",
      "        5472,  5473,  5474,  5475,  5476,  5477,  5478,  5479,  5480,\n",
      "        5481,  5482,  5483,  5484,  5485,  5486,  5487,  5488,  5489,\n",
      "        5490,  5491,  5492,  5493,  5494,  5495,  5496,  5497,  5498,\n",
      "        5499,  5500,  5501,  5502,  5503,  5504,  5505,  5506,  5507,\n",
      "        5508,  5509,  5510,  5511,  5534,  5535,  5536,  5559,  5591,\n",
      "        5610,  5611,  5612,  5934,  5935,  5936,  5937,  5938,  5939,\n",
      "        5940,  5941,  5942,  5943,  5944,  5945,  5946,  5947,  5948,\n",
      "        5949,  5950,  5951,  5952,  5953,  5954,  5955,  5956,  5957,\n",
      "        5958,  5959,  5960,  5961,  5962,  5963,  5964,  5965,  5966,\n",
      "        5967,  5968,  5969,  5970,  5971,  5972,  5973,  5974,  5975,\n",
      "        5976,  5977,  5978,  5979,  5980,  5981,  5982,  5983,  5984,\n",
      "        5985,  5986,  6326,  6329,  6330,  6331,  6337,  6339,  6349,\n",
      "        6358,  6384,  6386,  6402,  6411,  6412,  6413,  6415,  6423,\n",
      "        6424,  6425,  6426,  6427,  6428,  6429,  6430,  6431,  6432,\n",
      "        6433,  6434,  6435,  6436,  6437,  6438,  6439,  6440,  6441,\n",
      "        6442,  6443,  6444,  6445,  6446,  6447,  6448,  6449,  6450,\n",
      "        6451,  6452,  6453,  6454,  6455,  6456,  6457,  6459,  6460,\n",
      "        6782,  6783,  6784,  6785,  6786,  6787,  6788,  6789,  6790,\n",
      "        6791,  6792,  6793,  6794,  6795,  6796,  6797,  6798,  6799,\n",
      "        6800,  6801,  6802,  6803,  6804,  6805,  6806,  6807,  6808,\n",
      "        6809,  6810,  6811,  6812,  6813,  6814,  6815,  6816,  6817,\n",
      "        6818,  6819,  6820,  6821,  6822,  6823,  6824,  6825,  6826,\n",
      "        6827,  6828,  6829,  6830,  6831,  6832,  6833,  6834,  6957,\n",
      "        6958,  6959,  6960,  6961,  6962,  6963,  6964,  6965,  6966,\n",
      "        6967,  6968,  6969,  6970,  6971,  7080,  7125,  7126,  7127,\n",
      "        7131,  7133,  7169,  7170,  7171,  7172,  7173,  7174,  7176,\n",
      "        7177,  7178,  7179,  7180,  7181,  7182,  7183,  7184,  7186,\n",
      "        7412,  7488,  7489,  7494,  7495,  7499,  7502,  7505,  7508,\n",
      "        7509,  7511,  7517,  7519,  8022,  8023,  8024,  8025,  8030,\n",
      "        8031,  8032,  8033,  8034,  8035,  8036,  8037,  8038,  8039,\n",
      "        8040,  8041,  8045,  8046,  8047,  8052,  8053,  8055,  8056,\n",
      "        8057,  8059,  8070,  8071,  8072,  8073,  8074,  8075,  8076,\n",
      "        8077,  8078,  8079,  8080,  8081,  8082,  8083,  8084,  8085,\n",
      "        8086,  8087,  8088,  8089,  8091,  8092,  8094,  8095,  8319,\n",
      "        8320,  8321,  8322,  8323,  8324,  8325,  8326,  8327,  8328,\n",
      "        8329,  8330,  8331,  8332,  8333,  8334,  8335,  8336,  8337,\n",
      "        8338,  8339,  8340,  8341,  8342,  8343,  8344,  8345,  8346,\n",
      "        8347,  8348,  8349,  8350,  8351,  8352,  8353,  8354,  8355,\n",
      "        8356,  8357,  8358,  8359,  8360,  8361,  8362,  8363,  8364,\n",
      "        8365,  8366,  8367,  8368,  8369,  8370,  8371,  8550,  8551,\n",
      "        8552,  8553,  8554,  8555,  8556,  8557,  8558,  8559,  8560,\n",
      "        8561,  8610,  8611,  8612,  8613,  8614,  8616,  8634,  8636,\n",
      "        8638,  8646,  8648,  8650,  8653,  8655,  8658,  8659,  8660,\n",
      "        8661,  8662,  8663,  8664,  8665,  8666,  8667,  8668,  8669,\n",
      "        8742,  8743,  8744,  8745,  8746,  8747,  8748,  8749,  8750,\n",
      "        8751,  8752,  8753,  8778,  9018,  9019,  9020,  9021,  9022,\n",
      "        9023,  9024,  9025,  9038,  9039,  9040,  9041,  9090,  9091,\n",
      "        9092,  9093,  9094,  9095,  9096,  9097,  9098,  9099,  9100,\n",
      "        9101,  9103,  9104,  9106,  9107,  9109,  9110,  9112, 14124,\n",
      "       14125, 15261, 15473, 17428], dtype=int64), array([6, 6, 6, 6, 6, 6, 6, 6, 6, 6, 6, 6, 6, 6, 6, 6, 6, 6, 6, 6, 6, 6,\n",
      "       6, 6, 6, 6, 6, 6, 6, 6, 6, 6, 6, 6, 6, 6, 6, 6, 6, 6, 6, 6, 6, 6,\n",
      "       6, 6, 6, 6, 6, 6, 6, 6, 6, 6, 6, 6, 6, 6, 6, 6, 6, 6, 6, 6, 6, 6,\n",
      "       6, 6, 6, 6, 6, 6, 6, 6, 6, 6, 6, 6, 6, 6, 6, 6, 6, 6, 6, 6, 6, 6,\n",
      "       6, 6, 6, 6, 6, 6, 6, 6, 6, 6, 6, 6, 6, 6, 6, 6, 6, 6, 6, 6, 6, 6,\n",
      "       6, 6, 6, 6, 6, 6, 6, 6, 6, 6, 6, 6, 6, 6, 6, 6, 6, 6, 6, 6, 6, 6,\n",
      "       6, 6, 6, 6, 6, 6, 6, 6, 6, 6, 6, 6, 6, 6, 6, 6, 6, 6, 6, 6, 6, 6,\n",
      "       6, 6, 6, 6, 6, 6, 6, 6, 6, 6, 6, 6, 6, 6, 6, 6, 6, 6, 6, 6, 6, 6,\n",
      "       6, 6, 6, 6, 6, 6, 6, 6, 6, 6, 6, 6, 6, 6, 6, 6, 6, 6, 6, 6, 6, 6,\n",
      "       6, 6, 6, 6, 6, 6, 6, 6, 6, 6, 6, 6, 6, 6, 6, 6, 6, 6, 6, 6, 6, 6,\n",
      "       6, 6, 6, 6, 6, 6, 6, 6, 6, 6, 6, 6, 6, 6, 6, 6, 6, 6, 6, 6, 6, 6,\n",
      "       6, 6, 6, 6, 6, 6, 6, 6, 6, 6, 6, 6, 6, 6, 6, 6, 6, 6, 6, 6, 6, 6,\n",
      "       6, 6, 6, 6, 6, 6, 6, 6, 6, 6, 6, 6, 6, 6, 6, 6, 6, 6, 6, 6, 6, 6,\n",
      "       6, 6, 6, 6, 6, 6, 6, 6, 6, 6, 6, 6, 6, 6, 6, 6, 6, 6, 6, 6, 6, 6,\n",
      "       6, 6, 6, 6, 6, 6, 6, 6, 6, 6, 6, 6, 6, 6, 6, 6, 6, 6, 6, 6, 6, 6,\n",
      "       6, 6, 6, 6, 6, 6, 6, 6, 6, 6, 6, 6, 6, 6, 6, 6, 6, 6, 6, 6, 6, 6,\n",
      "       6, 6, 6, 6, 6, 6, 6, 6, 6, 6, 6, 6, 6, 6, 6, 6, 6, 6, 6, 6, 6, 6,\n",
      "       6, 6, 6, 6, 6, 6, 6, 6, 6, 6, 6, 6, 6, 6, 6, 6, 6, 6, 6, 6, 6, 6,\n",
      "       6, 6, 6, 6, 6, 6, 6, 6, 6, 6, 6, 6, 6, 6, 6, 6, 6, 6, 6, 6, 6, 6,\n",
      "       6, 6, 6, 6, 6, 6, 6, 6, 6, 6, 6, 6, 6, 6, 6, 6, 6, 6, 6, 6, 6, 6,\n",
      "       6, 6, 6, 6, 6, 6, 6, 6, 6, 6, 6, 6, 6, 6, 6, 6, 6, 6, 6, 6, 6, 6,\n",
      "       6, 6, 6, 6, 6, 6, 6, 6, 6, 6, 6, 6, 6, 6, 6, 6, 6, 6, 6, 6, 6, 6,\n",
      "       6, 6, 6, 6, 6, 6, 6, 6, 6, 6, 6, 6, 6, 6, 6, 6, 6, 6, 6, 6, 6, 6,\n",
      "       6, 6, 6, 6, 6, 6, 6, 6, 6, 6, 6, 6, 6, 6, 6, 6, 6, 6, 6, 6, 6, 6,\n",
      "       6, 6, 6, 6, 6, 6, 6, 6, 6, 6, 6, 6, 6, 6, 6, 6, 6, 6, 6, 6, 6, 6,\n",
      "       6, 6, 6, 6, 6, 6, 6, 6, 6, 6, 6, 6, 6, 6, 6, 6, 6, 6, 6, 6, 6, 6,\n",
      "       6, 6, 6, 6, 0, 6, 6, 6, 6, 6, 6, 6, 6, 6, 6, 6, 6, 6, 6, 6, 6, 6,\n",
      "       6, 6, 6, 6, 6, 6, 6, 6, 6, 6, 6, 6, 6, 6, 6, 6, 6, 6, 6, 6, 6, 6,\n",
      "       6, 6, 6, 6, 6, 6, 6, 6, 6, 6, 6, 6, 6, 6, 6, 6, 6, 6, 6, 6, 6, 6,\n",
      "       6, 6, 6, 6, 6, 6, 6, 6, 6, 6, 6, 6, 6, 6, 6, 6, 6, 6, 6, 6, 6, 6,\n",
      "       6, 6, 6, 6, 6, 6, 6, 6, 6, 6, 6, 6, 6, 6, 6, 6, 6, 6, 6, 6, 6, 6,\n",
      "       6, 6, 6, 6, 6, 6, 6, 6, 6, 6, 6, 6, 6, 6, 6, 6, 6, 6, 6, 6, 6, 6,\n",
      "       6, 6, 6, 6, 6, 6, 6, 6, 6, 6, 6, 6, 6, 6, 6, 6, 6, 6, 6, 6, 6, 6,\n",
      "       6, 6, 6, 6, 6, 6, 6, 6, 6, 6, 6, 6, 6, 6, 6, 6, 6, 6, 6, 6, 6, 6,\n",
      "       6, 6, 6, 6, 6, 6, 6, 6, 6, 6, 6, 6, 6, 6, 6, 6, 6, 6, 6, 6, 6, 6,\n",
      "       6, 6, 6, 0, 0, 0, 0, 0], dtype=int64))\n"
     ]
    }
   ],
   "source": [
    "threshold = 3\n",
    "print(np.where(z>3))"
   ]
  },
  {
   "cell_type": "code",
   "execution_count": 49,
   "id": "f385d0f3",
   "metadata": {},
   "outputs": [
    {
     "name": "stdout",
     "output_type": "stream",
     "text": [
      "(18249, 10)\n",
      "(17471, 10)\n"
     ]
    }
   ],
   "source": [
    "df_new = df[(z<3).all(axis=1)]\n",
    "print(df.shape)\n",
    "print(df_new.shape)"
   ]
  },
  {
   "cell_type": "code",
   "execution_count": 50,
   "id": "eafe0834",
   "metadata": {},
   "outputs": [
    {
     "name": "stdout",
     "output_type": "stream",
     "text": [
      "2.7225901398086827\n"
     ]
    }
   ],
   "source": [
    "#to find % loss in data\n",
    "loss = (1359-1322)/1359 * 100\n",
    "print(loss)"
   ]
  },
  {
   "cell_type": "code",
   "execution_count": 51,
   "id": "08e91496",
   "metadata": {},
   "outputs": [
    {
     "data": {
      "text/plain": [
       "<AxesSubplot:>"
      ]
     },
     "execution_count": 51,
     "metadata": {},
     "output_type": "execute_result"
    },
    {
     "data": {
      "image/png": "[encoded data removed]",
      "text/plain": [
       "<Figure size 2000x1000 with 1 Axes>"
      ]
     },
     "metadata": {},
     "output_type": "display_data"
    }
   ],
   "source": [
    "# to visiualize the data after removing outliers\n",
    "df_new.plot(kind='box',figsize=(20,10))"
   ]
  },
  {
   "cell_type": "code",
   "execution_count": 52,
   "id": "fa09ea05",
   "metadata": {},
   "outputs": [],
   "source": [
    "#seperate feature variable and target variable\n",
    "x = df_new.drop (['region'], axis = 1)\n",
    "y = df_new['region']"
   ]
  },
  {
   "cell_type": "code",
   "execution_count": 53,
   "id": "7a70a3a3",
   "metadata": {},
   "outputs": [
    {
     "data": {
      "text/plain": [
       "Index(['AveragePrice', '4046', '4225', '4770', 'Small Bags', 'Large Bags',\n",
       "       'XLarge Bags', 'type', 'year'],\n",
       "      dtype='object')"
      ]
     },
     "execution_count": 53,
     "metadata": {},
     "output_type": "execute_result"
    }
   ],
   "source": [
    "x.columns"
   ]
  },
  {
   "cell_type": "code",
   "execution_count": 54,
   "id": "45085ac9",
   "metadata": {},
   "outputs": [
    {
     "data": {
      "text/plain": [
       "0       -1.752\n",
       "1       -1.752\n",
       "2       -1.752\n",
       "3       -1.752\n",
       "4       -1.752\n",
       "         ...  \n",
       "18244    1.656\n",
       "18245    1.656\n",
       "18246    1.656\n",
       "18247    1.656\n",
       "18248    1.656\n",
       "Name: region, Length: 17471, dtype: float64"
      ]
     },
     "execution_count": 54,
     "metadata": {},
     "output_type": "execute_result"
    }
   ],
   "source": [
    "y"
   ]
  },
  {
   "cell_type": "code",
   "execution_count": 55,
   "id": "bd67421f",
   "metadata": {},
   "outputs": [
    {
     "data": {
      "text/plain": [
       "array([ 0,  0,  0, ..., 53, 53, 53], dtype=int64)"
      ]
     },
     "execution_count": 55,
     "metadata": {},
     "output_type": "execute_result"
    }
   ],
   "source": [
    "#to convert y in to integer\n",
    "le = LabelEncoder()\n",
    "y=le.fit_transform(y)\n",
    "y"
   ]
  },
  {
   "cell_type": "code",
   "execution_count": 56,
   "id": "cb788929",
   "metadata": {},
   "outputs": [
    {
     "name": "stdout",
     "output_type": "stream",
     "text": [
      "Best accuracy is 0.8105865522174535 on Random_State 96\n"
     ]
    }
   ],
   "source": [
    "# to predict best random state value\n",
    "maxAcc =0\n",
    "maxRS=0\n",
    "\n",
    "for i in range(1,100):\n",
    "    x_train,x_test,y_train,y_test = train_test_split(x,y,test_size=0.20,random_state=i)\n",
    "    dtc = DecisionTreeClassifier()\n",
    "    dtc.fit(x_train,y_train)\n",
    "    predrf = dtc.predict(x_test)\n",
    "    acc=accuracy_score(y_test,predrf)\n",
    "    if acc>maxAcc:\n",
    "        maxAcc=acc\n",
    "        maxRS=i\n",
    "print('Best accuracy is',maxAcc,'on Random_State',maxRS)"
   ]
  },
  {
   "cell_type": "code",
   "execution_count": 57,
   "id": "2002244b",
   "metadata": {},
   "outputs": [
    {
     "name": "stdout",
     "output_type": "stream",
     "text": [
      "accuracy 55.53648068669528\n",
      "[[37  0  0 ...  0  0  0]\n",
      " [10 24  0 ...  0  0  0]\n",
      " [ 1  0 28 ...  0  0  0]\n",
      " ...\n",
      " [ 0  0  0 ... 38  0  0]\n",
      " [ 0  0  0 ...  0 55  0]\n",
      " [ 3  0  0 ...  0  0 26]]\n",
      "              precision    recall  f1-score   support\n",
      "\n",
      "           0       0.13      0.54      0.21        69\n",
      "           1       0.77      0.41      0.54        58\n",
      "           2       0.93      0.47      0.63        59\n",
      "           3       0.95      0.52      0.67        71\n",
      "           4       0.85      0.62      0.72        71\n",
      "           5       0.83      0.34      0.49        73\n",
      "           6       0.95      0.86      0.90        43\n",
      "           7       0.28      0.61      0.38        66\n",
      "           8       0.76      0.80      0.78        55\n",
      "           9       0.57      0.54      0.55        61\n",
      "          10       0.85      0.39      0.54        71\n",
      "          11       0.28      0.67      0.39        61\n",
      "          12       0.92      0.67      0.77        90\n",
      "          13       0.86      0.36      0.51        66\n",
      "          14       0.97      0.45      0.61        76\n",
      "          15       0.87      0.79      0.82        42\n",
      "          16       0.87      0.44      0.58        62\n",
      "          17       0.35      0.82      0.49        65\n",
      "          18       0.42      0.49      0.46        57\n",
      "          19       0.59      0.46      0.52        71\n",
      "          20       0.97      0.49      0.65        76\n",
      "          21       0.94      0.47      0.63        70\n",
      "          22       0.72      0.68      0.70        41\n",
      "          23       0.79      0.45      0.57        67\n",
      "          24       0.20      0.60      0.31        60\n",
      "          25       0.95      0.90      0.93        62\n",
      "          26       0.69      0.47      0.56        62\n",
      "          27       0.90      0.41      0.56        88\n",
      "          28       0.64      0.83      0.72        66\n",
      "          29       0.95      0.98      0.96        54\n",
      "          30       0.48      0.59      0.53        59\n",
      "          31       0.24      0.43      0.31        60\n",
      "          32       0.90      0.38      0.53        72\n",
      "          33       1.00      0.44      0.61        64\n",
      "          34       0.13      0.71      0.22        59\n",
      "          35       0.85      0.78      0.82        60\n",
      "          36       0.77      0.69      0.73        74\n",
      "          37       0.84      0.42      0.56        65\n",
      "          38       0.74      0.40      0.52        72\n",
      "          39       0.50      0.52      0.51        66\n",
      "          40       0.59      0.48      0.53        66\n",
      "          41       1.00      0.53      0.69        79\n",
      "          42       0.56      0.61      0.59        70\n",
      "          43       0.77      0.71      0.74        62\n",
      "          44       0.57      0.44      0.50        62\n",
      "          45       0.96      0.78      0.86        63\n",
      "          46       0.85      0.57      0.68        58\n",
      "          47       0.75      0.38      0.50        79\n",
      "          48       0.89      0.42      0.57        76\n",
      "          49       0.67      0.41      0.50        74\n",
      "          50       0.50      0.16      0.24        70\n",
      "          51       1.00      1.00      1.00        38\n",
      "          52       0.87      0.98      0.92        56\n",
      "          53       0.87      0.45      0.59        58\n",
      "\n",
      "    accuracy                           0.56      3495\n",
      "   macro avg       0.72      0.57      0.60      3495\n",
      "weighted avg       0.73      0.56      0.59      3495\n",
      "\n"
     ]
    }
   ],
   "source": [
    "#build a SVC model\n",
    "svc=SVC()\n",
    "svc.fit(x_train,y_train)\n",
    "predlr = svc.predict(x_test)\n",
    "print('accuracy',accuracy_score(y_test, predlr)*100)\n",
    "print(confusion_matrix(y_test, predlr))\n",
    "print(classification_report(y_test,predlr))"
   ]
  },
  {
   "cell_type": "code",
   "execution_count": 58,
   "id": "54ba9b85",
   "metadata": {},
   "outputs": [
    {
     "name": "stdout",
     "output_type": "stream",
     "text": [
      "accuracy 44.92131616595136\n",
      "[[43  0  0 ...  0  0  0]\n",
      " [ 2 14  0 ...  0  0  0]\n",
      " [ 0  0 25 ...  0  0  2]\n",
      " ...\n",
      " [ 0  0  0 ... 33  5  0]\n",
      " [ 0  0  0 ...  0 52  0]\n",
      " [ 0  5  0 ...  0  0 19]]\n",
      "              precision    recall  f1-score   support\n",
      "\n",
      "           0       0.36      0.62      0.46        69\n",
      "           1       0.28      0.24      0.26        58\n",
      "           2       0.61      0.42      0.50        59\n",
      "           3       0.16      0.46      0.23        71\n",
      "           4       0.67      0.54      0.59        71\n",
      "           5       0.33      0.32      0.32        73\n",
      "           6       0.73      0.81      0.77        43\n",
      "           7       0.28      0.48      0.36        66\n",
      "           8       0.62      0.85      0.72        55\n",
      "           9       0.38      0.51      0.44        61\n",
      "          10       0.75      0.21      0.33        71\n",
      "          11       0.40      0.52      0.45        61\n",
      "          12       0.63      0.50      0.56        90\n",
      "          13       0.82      0.27      0.41        66\n",
      "          14       0.62      0.43      0.51        76\n",
      "          15       0.47      0.57      0.52        42\n",
      "          16       0.61      0.44      0.51        62\n",
      "          17       0.35      0.85      0.49        65\n",
      "          18       0.22      0.18      0.19        57\n",
      "          19       0.64      0.32      0.43        71\n",
      "          20       0.27      0.55      0.36        76\n",
      "          21       0.54      0.39      0.45        70\n",
      "          22       0.54      0.54      0.54        41\n",
      "          23       0.30      0.54      0.39        67\n",
      "          24       0.48      0.48      0.48        60\n",
      "          25       0.63      0.42      0.50        62\n",
      "          26       0.26      0.29      0.28        62\n",
      "          27       0.45      0.38      0.41        88\n",
      "          28       0.64      0.71      0.67        66\n",
      "          29       0.82      0.87      0.85        54\n",
      "          30       0.58      0.31      0.40        59\n",
      "          31       0.28      0.22      0.25        60\n",
      "          32       0.63      0.31      0.41        72\n",
      "          33       0.50      0.20      0.29        64\n",
      "          34       0.47      0.12      0.19        59\n",
      "          35       0.75      0.35      0.48        60\n",
      "          36       0.58      0.26      0.36        74\n",
      "          37       0.34      0.49      0.41        65\n",
      "          38       0.49      0.36      0.42        72\n",
      "          39       0.25      0.59      0.35        66\n",
      "          40       0.50      0.61      0.55        66\n",
      "          41       0.51      0.24      0.33        79\n",
      "          42       0.66      0.79      0.72        70\n",
      "          43       0.35      0.31      0.32        62\n",
      "          44       0.68      0.34      0.45        62\n",
      "          45       0.76      0.71      0.74        63\n",
      "          46       0.66      0.60      0.63        58\n",
      "          47       0.56      0.23      0.32        79\n",
      "          48       0.26      0.38      0.31        76\n",
      "          49       0.42      0.46      0.44        74\n",
      "          50       0.44      0.16      0.23        70\n",
      "          51       1.00      0.87      0.93        38\n",
      "          52       0.68      0.93      0.78        56\n",
      "          53       0.54      0.33      0.41        58\n",
      "\n",
      "    accuracy                           0.45      3495\n",
      "   macro avg       0.51      0.46      0.46      3495\n",
      "weighted avg       0.51      0.45      0.45      3495\n",
      "\n"
     ]
    }
   ],
   "source": [
    "#build a logistic regression classifier\n",
    "LR = LogisticRegression()\n",
    "LR.fit(x_train,y_train)\n",
    "predlr = LR.predict(x_test)\n",
    "print('accuracy',accuracy_score(y_test, predlr)*100)\n",
    "print(confusion_matrix(y_test, predlr))\n",
    "print(classification_report(y_test,predlr))"
   ]
  },
  {
   "cell_type": "code",
   "execution_count": 59,
   "id": "95437401",
   "metadata": {},
   "outputs": [
    {
     "name": "stdout",
     "output_type": "stream",
     "text": [
      "accuracy 80.77253218884121\n",
      "[[56  0  0 ...  0  0  0]\n",
      " [ 0 44  0 ...  0  0  0]\n",
      " [ 0  0 53 ...  0  0  2]\n",
      " ...\n",
      " [ 0  0  0 ... 38  0  0]\n",
      " [ 0  0  0 ...  0 53  0]\n",
      " [ 0  0  2 ...  0  0 44]]\n",
      "              precision    recall  f1-score   support\n",
      "\n",
      "           0       0.75      0.81      0.78        69\n",
      "           1       0.66      0.76      0.70        58\n",
      "           2       0.90      0.90      0.90        59\n",
      "           3       0.83      0.77      0.80        71\n",
      "           4       0.93      0.90      0.91        71\n",
      "           5       0.72      0.70      0.71        73\n",
      "           6       0.91      0.98      0.94        43\n",
      "           7       0.83      0.86      0.84        66\n",
      "           8       0.86      0.91      0.88        55\n",
      "           9       0.75      0.77      0.76        61\n",
      "          10       0.77      0.76      0.77        71\n",
      "          11       0.88      0.70      0.78        61\n",
      "          12       0.92      0.88      0.90        90\n",
      "          13       0.77      0.71      0.74        66\n",
      "          14       0.76      0.78      0.77        76\n",
      "          15       0.95      0.95      0.95        42\n",
      "          16       0.87      0.89      0.88        62\n",
      "          17       0.84      0.86      0.85        65\n",
      "          18       0.80      0.93      0.86        57\n",
      "          19       0.80      0.83      0.81        71\n",
      "          20       0.86      0.72      0.79        76\n",
      "          21       0.76      0.71      0.74        70\n",
      "          22       0.93      0.95      0.94        41\n",
      "          23       0.77      0.75      0.76        67\n",
      "          24       0.56      0.62      0.59        60\n",
      "          25       0.98      0.90      0.94        62\n",
      "          26       0.62      0.73      0.67        62\n",
      "          27       0.83      0.82      0.82        88\n",
      "          28       0.84      0.80      0.82        66\n",
      "          29       0.91      0.96      0.94        54\n",
      "          30       0.90      0.90      0.90        59\n",
      "          31       0.61      0.72      0.66        60\n",
      "          32       0.94      0.82      0.87        72\n",
      "          33       0.82      0.77      0.79        64\n",
      "          34       0.82      0.78      0.80        59\n",
      "          35       0.89      0.92      0.90        60\n",
      "          36       0.84      0.69      0.76        74\n",
      "          37       0.72      0.78      0.75        65\n",
      "          38       0.85      0.76      0.80        72\n",
      "          39       0.79      0.80      0.80        66\n",
      "          40       0.87      0.83      0.85        66\n",
      "          41       0.73      0.81      0.77        79\n",
      "          42       0.82      0.84      0.83        70\n",
      "          43       0.72      0.90      0.80        62\n",
      "          44       0.78      0.87      0.82        62\n",
      "          45       0.92      0.94      0.93        63\n",
      "          46       0.90      0.91      0.91        58\n",
      "          47       0.78      0.73      0.76        79\n",
      "          48       0.79      0.64      0.71        76\n",
      "          49       0.79      0.74      0.76        74\n",
      "          50       0.56      0.54      0.55        70\n",
      "          51       0.97      1.00      0.99        38\n",
      "          52       0.98      0.95      0.96        56\n",
      "          53       0.71      0.76      0.73        58\n",
      "\n",
      "    accuracy                           0.81      3495\n",
      "   macro avg       0.82      0.82      0.81      3495\n",
      "weighted avg       0.81      0.81      0.81      3495\n",
      "\n"
     ]
    }
   ],
   "source": [
    "# build a DecisionTreeClassifier\n",
    "DT = DecisionTreeClassifier(random_state=96)\n",
    "DT.fit(x_train, y_train)\n",
    "predlr = DT.predict(x_test)\n",
    "print('accuracy',accuracy_score(y_test, predlr)*100)\n",
    "print(confusion_matrix(y_test, predlr))\n",
    "print(classification_report(y_test,predlr))"
   ]
  },
  {
   "cell_type": "code",
   "execution_count": 60,
   "id": "93fd7ea7",
   "metadata": {},
   "outputs": [
    {
     "name": "stdout",
     "output_type": "stream",
     "text": [
      "accuracy 90.98712446351931\n",
      "[[64  0  0 ...  0  0  0]\n",
      " [ 0 52  0 ...  0  0  0]\n",
      " [ 0  0 59 ...  0  0  0]\n",
      " ...\n",
      " [ 0  0  0 ... 38  0  0]\n",
      " [ 0  0  0 ...  0 56  0]\n",
      " [ 0  0  1 ...  0  0 52]]\n",
      "              precision    recall  f1-score   support\n",
      "\n",
      "           0       0.85      0.93      0.89        69\n",
      "           1       0.74      0.90      0.81        58\n",
      "           2       0.95      1.00      0.98        59\n",
      "           3       0.94      0.85      0.89        71\n",
      "           4       0.96      0.96      0.96        71\n",
      "           5       0.87      0.81      0.84        73\n",
      "           6       0.98      1.00      0.99        43\n",
      "           7       0.98      0.86      0.92        66\n",
      "           8       0.96      0.98      0.97        55\n",
      "           9       0.95      0.90      0.92        61\n",
      "          10       0.84      0.89      0.86        71\n",
      "          11       0.98      0.84      0.90        61\n",
      "          12       0.97      0.96      0.96        90\n",
      "          13       0.85      0.88      0.87        66\n",
      "          14       0.89      0.96      0.92        76\n",
      "          15       1.00      0.95      0.98        42\n",
      "          16       0.95      0.94      0.94        62\n",
      "          17       0.90      0.94      0.92        65\n",
      "          18       0.85      0.96      0.90        57\n",
      "          19       0.90      0.93      0.92        71\n",
      "          20       0.93      0.88      0.91        76\n",
      "          21       0.86      0.87      0.87        70\n",
      "          22       0.98      1.00      0.99        41\n",
      "          23       0.86      0.88      0.87        67\n",
      "          24       0.79      0.73      0.76        60\n",
      "          25       0.98      0.97      0.98        62\n",
      "          26       0.81      0.84      0.83        62\n",
      "          27       0.93      0.88      0.90        88\n",
      "          28       0.98      0.97      0.98        66\n",
      "          29       0.96      1.00      0.98        54\n",
      "          30       0.93      0.95      0.94        59\n",
      "          31       0.71      0.82      0.76        60\n",
      "          32       0.95      0.85      0.90        72\n",
      "          33       0.95      0.95      0.95        64\n",
      "          34       0.96      0.88      0.92        59\n",
      "          35       0.97      0.98      0.98        60\n",
      "          36       0.94      0.86      0.90        74\n",
      "          37       0.82      0.94      0.88        65\n",
      "          38       0.90      0.90      0.90        72\n",
      "          39       0.91      0.89      0.90        66\n",
      "          40       0.93      0.94      0.93        66\n",
      "          41       0.91      0.94      0.92        79\n",
      "          42       0.94      0.97      0.96        70\n",
      "          43       0.94      0.95      0.94        62\n",
      "          44       0.88      0.95      0.91        62\n",
      "          45       0.98      1.00      0.99        63\n",
      "          46       1.00      1.00      1.00        58\n",
      "          47       0.91      0.87      0.89        79\n",
      "          48       0.94      0.83      0.88        76\n",
      "          49       0.86      0.89      0.87        74\n",
      "          50       0.71      0.64      0.68        70\n",
      "          51       1.00      1.00      1.00        38\n",
      "          52       0.98      1.00      0.99        56\n",
      "          53       0.93      0.90      0.91        58\n",
      "\n",
      "    accuracy                           0.91      3495\n",
      "   macro avg       0.91      0.91      0.91      3495\n",
      "weighted avg       0.91      0.91      0.91      3495\n",
      "\n"
     ]
    }
   ],
   "source": [
    "#build a RandomForestClassifier\n",
    "RF = RandomForestClassifier(random_state=96)\n",
    "RF.fit(x_train, y_train)\n",
    "predlr = RF.predict(x_test)\n",
    "print('accuracy',accuracy_score(y_test, predlr)*100)\n",
    "print(confusion_matrix(y_test, predlr))\n",
    "print(classification_report(y_test,predlr))"
   ]
  },
  {
   "cell_type": "code",
   "execution_count": 61,
   "id": "f30e5f32",
   "metadata": {},
   "outputs": [
    {
     "name": "stdout",
     "output_type": "stream",
     "text": [
      "cross validation score of random forest model =  0.6882276995593509\n",
      "cross validation score of logistic regression model =  0.3469656136454645\n",
      "cross validation score of desicion tree model =  0.5465671705347324\n",
      "cross validation score of standard vector machine model =  0.39075254288365174\n"
     ]
    }
   ],
   "source": [
    "#cross validation to check the accuracy score\n",
    "print('cross validation score of random forest model = ', cross_val_score(RF,x,y,cv=None).mean())\n",
    "print('cross validation score of logistic regression model = ', cross_val_score(LR,x,y,cv=None).mean())\n",
    "print('cross validation score of desicion tree model = ', cross_val_score(DT,x,y,cv=None).mean())\n",
    "print('cross validation score of standard vector machine model = ', cross_val_score(svc,x,y,cv=None).mean())"
   ]
  },
  {
   "cell_type": "code",
   "execution_count": 62,
   "id": "89335c7e",
   "metadata": {},
   "outputs": [],
   "source": [
    "# hyperparameter tuning with RandomForestClassifier, parameters of RandomForestClassifier\n",
    "parameters ={'n_estimators':[200], 'criterion':['gini'], \n",
    "             'min_samples_split':[5], 'min_samples_leaf':[2], \n",
    "              'bootstrap':[True],'n_jobs':[-1], 'random_state':[96]}"
   ]
  },
  {
   "cell_type": "code",
   "execution_count": 63,
   "id": "fd5f5001",
   "metadata": {},
   "outputs": [],
   "source": [
    "# hyperparameter tuning with gridsearchCV\n",
    "gcv = GridSearchCV(RandomForestClassifier(random_state=96), parameters, verbose=1, cv=10, n_jobs=-1)"
   ]
  },
  {
   "cell_type": "code",
   "execution_count": 64,
   "id": "53e11eac",
   "metadata": {},
   "outputs": [
    {
     "name": "stdout",
     "output_type": "stream",
     "text": [
      "Fitting 10 folds for each of 1 candidates, totalling 10 fits\n"
     ]
    },
    {
     "data": {
      "text/plain": [
       "GridSearchCV(cv=10, estimator=RandomForestClassifier(random_state=96),\n",
       "             n_jobs=-1,\n",
       "             param_grid={'bootstrap': [True], 'criterion': ['gini'],\n",
       "                         'min_samples_leaf': [2], 'min_samples_split': [5],\n",
       "                         'n_estimators': [200], 'n_jobs': [-1],\n",
       "                         'random_state': [96]},\n",
       "             verbose=1)"
      ]
     },
     "execution_count": 64,
     "metadata": {},
     "output_type": "execute_result"
    }
   ],
   "source": [
    "#training the model\n",
    "gcv.fit(x_train,y_train)"
   ]
  },
  {
   "cell_type": "code",
   "execution_count": 65,
   "id": "b82b698b",
   "metadata": {},
   "outputs": [
    {
     "data": {
      "text/plain": [
       "sklearn.model_selection._search.GridSearchCV"
      ]
     },
     "execution_count": 65,
     "metadata": {},
     "output_type": "execute_result"
    }
   ],
   "source": [
    "type(gcv)"
   ]
  },
  {
   "cell_type": "code",
   "execution_count": 66,
   "id": "2772982e",
   "metadata": {},
   "outputs": [
    {
     "data": {
      "text/plain": [
       "RandomForestClassifier(min_samples_leaf=2, min_samples_split=5,\n",
       "                       n_estimators=200, n_jobs=-1, random_state=96)"
      ]
     },
     "execution_count": 66,
     "metadata": {},
     "output_type": "execute_result"
    }
   ],
   "source": [
    "# finding best estimator\n",
    "gcv.best_estimator_"
   ]
  },
  {
   "cell_type": "code",
   "execution_count": 67,
   "id": "3449e9a5",
   "metadata": {},
   "outputs": [
    {
     "data": {
      "text/plain": [
       "{'bootstrap': True,\n",
       " 'criterion': 'gini',\n",
       " 'min_samples_leaf': 2,\n",
       " 'min_samples_split': 5,\n",
       " 'n_estimators': 200,\n",
       " 'n_jobs': -1,\n",
       " 'random_state': 96}"
      ]
     },
     "execution_count": 67,
     "metadata": {},
     "output_type": "execute_result"
    }
   ],
   "source": [
    "#finding out which parameter is giving best accuracy\n",
    "gcv.best_params_"
   ]
  },
  {
   "cell_type": "code",
   "execution_count": 68,
   "id": "561b27d0",
   "metadata": {},
   "outputs": [
    {
     "name": "stdout",
     "output_type": "stream",
     "text": [
      "80.97281831187411\n"
     ]
    }
   ],
   "source": [
    "# Applying the parameters to the final model\n",
    "pred = gcv.best_estimator_.predict(x_test)\n",
    "acc1 =accuracy_score(y_test,pred)\n",
    "print(acc*100)"
   ]
  },
  {
   "cell_type": "code",
   "execution_count": 69,
   "id": "8cc73169",
   "metadata": {},
   "outputs": [
    {
     "data": {
      "text/plain": [
       "RandomForestClassifier(min_samples_leaf=2, min_samples_split=5,\n",
       "                       n_estimators=200, n_jobs=-1, random_state=42)"
      ]
     },
     "execution_count": 69,
     "metadata": {},
     "output_type": "execute_result"
    }
   ],
   "source": [
    "# to save the model\n",
    "model=RandomForestClassifier(min_samples_leaf=2, min_samples_split=5,\n",
    "                       n_estimators=200, n_jobs=-1, random_state=42)\n",
    "model.fit(x_train, y_train)"
   ]
  },
  {
   "cell_type": "code",
   "execution_count": 70,
   "id": "4e9043d4",
   "metadata": {},
   "outputs": [
    {
     "data": {
      "text/plain": [
       "['avacado_classification_model.pkl']"
      ]
     },
     "execution_count": 70,
     "metadata": {},
     "output_type": "execute_result"
    }
   ],
   "source": [
    "#to save the model\n",
    "import joblib\n",
    "joblib.dump(model,'avacado_classification_model.pkl')"
   ]
  },
  {
   "cell_type": "markdown",
   "id": "c7c1892e",
   "metadata": {},
   "source": [
    "# Avacado project as Regression problem"
   ]
  },
  {
   "cell_type": "code",
   "execution_count": 71,
   "id": "e5b88ed0",
   "metadata": {},
   "outputs": [],
   "source": [
    "# To import all the required libraries\n",
    "from sklearn.model_selection import train_test_split\n",
    "from sklearn.linear_model import LinearRegression\n",
    "from sklearn.linear_model import Lasso, Ridge\n",
    "from sklearn.ensemble import RandomForestRegressor,GradientBoostingRegressor,AdaBoostRegressor\n",
    "from sklearn.tree import DecisionTreeRegressor\n",
    "from sklearn.preprocessing import (StandardScaler,\n",
    "                                  PolynomialFeatures)\n",
    "from sklearn.metrics import mean_squared_error, mean_absolute_error\n",
    "from sklearn.metrics import r2_score\n",
    "from scipy.stats.mstats import normaltest\n",
    "from sklearn.svm import SVR\n",
    "\n",
    "from sklearn.model_selection import cross_val_score\n",
    "from sklearn.model_selection import GridSearchCV\n",
    "\n",
    "import warnings\n",
    "warnings.filterwarnings('ignore')"
   ]
  },
  {
   "cell_type": "code",
   "execution_count": 72,
   "id": "4b302afb",
   "metadata": {},
   "outputs": [
    {
     "data": {
      "text/html": [
       "<div>\n",
       "<style scoped>\n",
       "    .dataframe tbody tr th:only-of-type {\n",
       "        vertical-align: middle;\n",
       "    }\n",
       "\n",
       "    .dataframe tbody tr th {\n",
       "        vertical-align: top;\n",
       "    }\n",
       "\n",
       "    .dataframe thead th {\n",
       "        text-align: right;\n",
       "    }\n",
       "</style>\n",
       "<table border=\"1\" class=\"dataframe\">\n",
       "  <thead>\n",
       "    <tr style=\"text-align: right;\">\n",
       "      <th></th>\n",
       "      <th>AveragePrice</th>\n",
       "      <th>4046</th>\n",
       "      <th>4225</th>\n",
       "      <th>4770</th>\n",
       "      <th>Small Bags</th>\n",
       "      <th>Large Bags</th>\n",
       "      <th>XLarge Bags</th>\n",
       "      <th>type</th>\n",
       "      <th>year</th>\n",
       "      <th>region</th>\n",
       "    </tr>\n",
       "  </thead>\n",
       "  <tbody>\n",
       "    <tr>\n",
       "      <th>0</th>\n",
       "      <td>-0.088</td>\n",
       "      <td>-0.643</td>\n",
       "      <td>-0.278</td>\n",
       "      <td>-0.571</td>\n",
       "      <td>-0.670</td>\n",
       "      <td>-0.665</td>\n",
       "      <td>-0.462</td>\n",
       "      <td>-1.000</td>\n",
       "      <td>-1.286</td>\n",
       "      <td>-1.752</td>\n",
       "    </tr>\n",
       "    <tr>\n",
       "      <th>1</th>\n",
       "      <td>-0.036</td>\n",
       "      <td>-0.646</td>\n",
       "      <td>-0.357</td>\n",
       "      <td>-0.570</td>\n",
       "      <td>-0.657</td>\n",
       "      <td>-0.665</td>\n",
       "      <td>-0.462</td>\n",
       "      <td>-1.000</td>\n",
       "      <td>-1.286</td>\n",
       "      <td>-1.752</td>\n",
       "    </tr>\n",
       "    <tr>\n",
       "      <th>2</th>\n",
       "      <td>-1.276</td>\n",
       "      <td>-0.645</td>\n",
       "      <td>0.126</td>\n",
       "      <td>-0.561</td>\n",
       "      <td>-0.678</td>\n",
       "      <td>-0.665</td>\n",
       "      <td>-0.462</td>\n",
       "      <td>-1.000</td>\n",
       "      <td>-1.286</td>\n",
       "      <td>-1.752</td>\n",
       "    </tr>\n",
       "    <tr>\n",
       "      <th>3</th>\n",
       "      <td>-0.797</td>\n",
       "      <td>-0.642</td>\n",
       "      <td>-0.141</td>\n",
       "      <td>-0.568</td>\n",
       "      <td>-0.715</td>\n",
       "      <td>-0.663</td>\n",
       "      <td>-0.462</td>\n",
       "      <td>-1.000</td>\n",
       "      <td>-1.286</td>\n",
       "      <td>-1.752</td>\n",
       "    </tr>\n",
       "    <tr>\n",
       "      <th>4</th>\n",
       "      <td>-0.222</td>\n",
       "      <td>-0.644</td>\n",
       "      <td>-0.364</td>\n",
       "      <td>-0.568</td>\n",
       "      <td>-0.710</td>\n",
       "      <td>-0.660</td>\n",
       "      <td>-0.462</td>\n",
       "      <td>-1.000</td>\n",
       "      <td>-1.286</td>\n",
       "      <td>-1.752</td>\n",
       "    </tr>\n",
       "  </tbody>\n",
       "</table>\n",
       "</div>"
      ],
      "text/plain": [
       "   AveragePrice   4046   4225   4770  Small Bags  Large Bags  XLarge Bags  \\\n",
       "0        -0.088 -0.643 -0.278 -0.571      -0.670      -0.665       -0.462   \n",
       "1        -0.036 -0.646 -0.357 -0.570      -0.657      -0.665       -0.462   \n",
       "2        -1.276 -0.645  0.126 -0.561      -0.678      -0.665       -0.462   \n",
       "3        -0.797 -0.642 -0.141 -0.568      -0.715      -0.663       -0.462   \n",
       "4        -0.222 -0.644 -0.364 -0.568      -0.710      -0.660       -0.462   \n",
       "\n",
       "    type   year  region  \n",
       "0 -1.000 -1.286  -1.752  \n",
       "1 -1.000 -1.286  -1.752  \n",
       "2 -1.000 -1.286  -1.752  \n",
       "3 -1.000 -1.286  -1.752  \n",
       "4 -1.000 -1.286  -1.752  "
      ]
     },
     "execution_count": 72,
     "metadata": {},
     "output_type": "execute_result"
    }
   ],
   "source": [
    "df_new.head()"
   ]
  },
  {
   "cell_type": "code",
   "execution_count": 73,
   "id": "ea350a35",
   "metadata": {},
   "outputs": [],
   "source": [
    "#seperate feature variable and target variable\n",
    "x1 = df_new.drop (['AveragePrice'], axis = 1)\n",
    "y1 = df_new['AveragePrice']"
   ]
  },
  {
   "cell_type": "code",
   "execution_count": 74,
   "id": "59247d24",
   "metadata": {},
   "outputs": [
    {
     "data": {
      "text/html": [
       "<div>\n",
       "<style scoped>\n",
       "    .dataframe tbody tr th:only-of-type {\n",
       "        vertical-align: middle;\n",
       "    }\n",
       "\n",
       "    .dataframe tbody tr th {\n",
       "        vertical-align: top;\n",
       "    }\n",
       "\n",
       "    .dataframe thead th {\n",
       "        text-align: right;\n",
       "    }\n",
       "</style>\n",
       "<table border=\"1\" class=\"dataframe\">\n",
       "  <thead>\n",
       "    <tr style=\"text-align: right;\">\n",
       "      <th></th>\n",
       "      <th>4046</th>\n",
       "      <th>4225</th>\n",
       "      <th>4770</th>\n",
       "      <th>Small Bags</th>\n",
       "      <th>Large Bags</th>\n",
       "      <th>XLarge Bags</th>\n",
       "      <th>type</th>\n",
       "      <th>year</th>\n",
       "      <th>region</th>\n",
       "    </tr>\n",
       "  </thead>\n",
       "  <tbody>\n",
       "    <tr>\n",
       "      <th>0</th>\n",
       "      <td>-0.643</td>\n",
       "      <td>-0.278</td>\n",
       "      <td>-0.571</td>\n",
       "      <td>-0.670</td>\n",
       "      <td>-0.665</td>\n",
       "      <td>-0.462</td>\n",
       "      <td>-1.000</td>\n",
       "      <td>-1.286</td>\n",
       "      <td>-1.752</td>\n",
       "    </tr>\n",
       "    <tr>\n",
       "      <th>1</th>\n",
       "      <td>-0.646</td>\n",
       "      <td>-0.357</td>\n",
       "      <td>-0.570</td>\n",
       "      <td>-0.657</td>\n",
       "      <td>-0.665</td>\n",
       "      <td>-0.462</td>\n",
       "      <td>-1.000</td>\n",
       "      <td>-1.286</td>\n",
       "      <td>-1.752</td>\n",
       "    </tr>\n",
       "    <tr>\n",
       "      <th>2</th>\n",
       "      <td>-0.645</td>\n",
       "      <td>0.126</td>\n",
       "      <td>-0.561</td>\n",
       "      <td>-0.678</td>\n",
       "      <td>-0.665</td>\n",
       "      <td>-0.462</td>\n",
       "      <td>-1.000</td>\n",
       "      <td>-1.286</td>\n",
       "      <td>-1.752</td>\n",
       "    </tr>\n",
       "  </tbody>\n",
       "</table>\n",
       "</div>"
      ],
      "text/plain": [
       "    4046   4225   4770  Small Bags  Large Bags  XLarge Bags   type   year  \\\n",
       "0 -0.643 -0.278 -0.571      -0.670      -0.665       -0.462 -1.000 -1.286   \n",
       "1 -0.646 -0.357 -0.570      -0.657      -0.665       -0.462 -1.000 -1.286   \n",
       "2 -0.645  0.126 -0.561      -0.678      -0.665       -0.462 -1.000 -1.286   \n",
       "\n",
       "   region  \n",
       "0  -1.752  \n",
       "1  -1.752  \n",
       "2  -1.752  "
      ]
     },
     "execution_count": 74,
     "metadata": {},
     "output_type": "execute_result"
    }
   ],
   "source": [
    "x1.head(3)"
   ]
  },
  {
   "cell_type": "code",
   "execution_count": 75,
   "id": "6f8961cd",
   "metadata": {},
   "outputs": [
    {
     "data": {
      "text/plain": [
       "0       -0.088\n",
       "1       -0.036\n",
       "2       -1.276\n",
       "3       -0.797\n",
       "4       -0.222\n",
       "         ...  \n",
       "18244    0.643\n",
       "18245    0.819\n",
       "18246    1.152\n",
       "18247    1.270\n",
       "18248    0.620\n",
       "Name: AveragePrice, Length: 17471, dtype: float64"
      ]
     },
     "execution_count": 75,
     "metadata": {},
     "output_type": "execute_result"
    }
   ],
   "source": [
    "y1"
   ]
  },
  {
   "cell_type": "code",
   "execution_count": 76,
   "id": "59028257",
   "metadata": {},
   "outputs": [
    {
     "name": "stdout",
     "output_type": "stream",
     "text": [
      "Best r2_score is  0.5062820516455333 on Random_State 92\n"
     ]
    }
   ],
   "source": [
    "# to predict best random state value\n",
    "max_r2=0\n",
    "maxRs=0\n",
    "for i in range(0,100):\n",
    "    x1_train, x1_test, y1_train, y1_test = train_test_split(x1, y1, test_size=0.20, random_state=i)\n",
    "    lr=LinearRegression()\n",
    "    lr.fit(x1_train,y1_train)\n",
    "    pred_train=lr.predict(x1_train)\n",
    "    pred_test=lr.predict(x1_test)\n",
    "    r2_score1=r2_score(y1_test,pred_test)\n",
    "    if r2_score1>max_r2:\n",
    "        max_r2=r2_score1\n",
    "        maxRs=i\n",
    "print(\"Best r2_score is \", max_r2,\"on Random_State\",maxRs)"
   ]
  },
  {
   "cell_type": "code",
   "execution_count": 77,
   "id": "7188ae67",
   "metadata": {},
   "outputs": [],
   "source": [
    "#spliting dataset into training(80%) and testing(20%)\n",
    "x1_train, x1_test, y1_train, y1_test = train_test_split(x1, y1, test_size=0.20, random_state=92)"
   ]
  },
  {
   "cell_type": "code",
   "execution_count": 78,
   "id": "83411868",
   "metadata": {},
   "outputs": [],
   "source": [
    "# to build models\n",
    "lr=LinearRegression()\n",
    "dtc=DecisionTreeRegressor()\n",
    "svr=SVR()\n",
    "rf=RandomForestRegressor()\n",
    "gbr=GradientBoostingRegressor()\n",
    "abr=AdaBoostRegressor()"
   ]
  },
  {
   "cell_type": "code",
   "execution_count": 79,
   "id": "3487c1eb",
   "metadata": {},
   "outputs": [
    {
     "name": "stdout",
     "output_type": "stream",
     "text": [
      "Mean Absolute error: of LinearRegression()\n",
      "26.51926657717895\n",
      "Mean Squared error: of LinearRegression()\n",
      "0.4894640386670465\n",
      "Root Mean Squared error: of LinearRegression()\n",
      "0.6996170657345677\n",
      "r2 score: of LinearRegression()\n",
      "0.5062820516455333\n",
      "Cross Validation Score: -0.24857853668606725\n",
      "Difference Between r2_score and CrossValidation Score: 0.7548605883316005\n",
      "\n",
      "\n",
      "Mean Absolute error: of DecisionTreeRegressor()\n",
      "26.497285292566705\n",
      "Mean Squared error: of DecisionTreeRegressor()\n",
      "0.2934046327802884\n",
      "Root Mean Squared error: of DecisionTreeRegressor()\n",
      "0.54166837897397\n",
      "r2 score: of DecisionTreeRegressor()\n",
      "0.7040454009073407\n",
      "Cross Validation Score: -1.0400242982725056\n",
      "Difference Between r2_score and CrossValidation Score: 1.7440696991798463\n",
      "\n",
      "\n",
      "Mean Absolute error: of SVR()\n",
      "26.503925376115603\n",
      "Mean Squared error: of SVR()\n",
      "0.315454207924674\n",
      "Root Mean Squared error: of SVR()\n",
      "0.561653102835437\n",
      "r2 score: of SVR()\n",
      "0.6818041939087218\n",
      "Cross Validation Score: -0.5242599631603224\n",
      "Difference Between r2_score and CrossValidation Score: 1.2060641570690442\n",
      "\n",
      "\n",
      "Mean Absolute error: of RandomForestRegressor()\n",
      "26.490828295015536\n",
      "Mean Squared error: of RandomForestRegressor()\n",
      "0.13375554125300004\n",
      "Root Mean Squared error: of RandomForestRegressor()\n",
      "0.3657260467248676\n",
      "r2 score: of RandomForestRegressor()\n",
      "0.8650819954243996\n",
      "Cross Validation Score: -0.6271297122042282\n",
      "Difference Between r2_score and CrossValidation Score: 1.4922117076286279\n",
      "\n",
      "\n",
      "Mean Absolute error: of GradientBoostingRegressor()\n",
      "26.504646310239224\n",
      "Mean Squared error: of GradientBoostingRegressor()\n",
      "0.28548993540611994\n",
      "Root Mean Squared error: of GradientBoostingRegressor()\n",
      "0.5343125821147392\n",
      "r2 score: of GradientBoostingRegressor()\n",
      "0.7120288845562366\n",
      "Cross Validation Score: -0.2626848498449104\n",
      "Difference Between r2_score and CrossValidation Score: 0.974713734401147\n",
      "\n",
      "\n",
      "Mean Absolute error: of AdaBoostRegressor()\n",
      "26.46613984533595\n",
      "Mean Squared error: of AdaBoostRegressor()\n",
      "0.4309934270864655\n",
      "Root Mean Squared error: of AdaBoostRegressor()\n",
      "0.6565008964856526\n",
      "r2 score: of AdaBoostRegressor()\n",
      "0.5652608286507068\n",
      "Cross Validation Score: -0.07009226402388744\n",
      "Difference Between r2_score and CrossValidation Score: 0.6353530926745943\n",
      "\n",
      "\n"
     ]
    }
   ],
   "source": [
    "model=[lr,dtc,svr,rf,gbr,abr]\n",
    "\n",
    "for m in model:\n",
    "    m.fit(x1_train,y1_train)\n",
    "    pred=m.predict(x1_test)\n",
    "    print('Mean Absolute error: of',m)\n",
    "    mae=mean_absolute_error(y_test,pred)\n",
    "    print(mae)\n",
    "    print('Mean Squared error: of',m)\n",
    "    mse=mean_squared_error(y1_test,pred)\n",
    "    print(mse)\n",
    "    print('Root Mean Squared error: of',m)\n",
    "    rmse=np.sqrt(mean_squared_error(y1_test,pred))\n",
    "    print(rmse)\n",
    "    print('r2 score: of',m)\n",
    "    r2score=r2_score(y1_test,pred)\n",
    "    print(r2score)\n",
    "    score=cross_val_score(m,x,y,cv=5)\n",
    "    crossval=score.mean()\n",
    "    print(\"Cross Validation Score:\",crossval)\n",
    "    print(\"Difference Between r2_score and CrossValidation Score:\",abs(r2score-crossval))\n",
    "    print(\"\\n\")"
   ]
  },
  {
   "cell_type": "code",
   "execution_count": 80,
   "id": "83309baf",
   "metadata": {},
   "outputs": [],
   "source": [
    "#hyperparameter tuning with AdaBoostRegressor, parameters of AdaBoostRegressor\n",
    "parameters = {'n_estimators':[500,1000,2000],\n",
    "              'learning_rate':[.001,0.01,.1],\n",
    "              'random_state':[92]}"
   ]
  },
  {
   "cell_type": "code",
   "execution_count": 81,
   "id": "7ea4a473",
   "metadata": {},
   "outputs": [],
   "source": [
    "# hyperparameter tuning with gridsearchCV\n",
    "gcv = GridSearchCV(AdaBoostRegressor(), parameters,scoring='r2', verbose=1, cv=10, n_jobs=-1)"
   ]
  },
  {
   "cell_type": "code",
   "execution_count": 82,
   "id": "59b8f39d",
   "metadata": {},
   "outputs": [
    {
     "name": "stdout",
     "output_type": "stream",
     "text": [
      "Fitting 10 folds for each of 9 candidates, totalling 90 fits\n"
     ]
    }
   ],
   "source": [
    "# training the model\n",
    "gcv_result = gcv.fit(x1_train, y1_train)"
   ]
  },
  {
   "cell_type": "code",
   "execution_count": 83,
   "id": "2114505f",
   "metadata": {},
   "outputs": [
    {
     "data": {
      "text/plain": [
       "{'learning_rate': 0.1, 'n_estimators': 500, 'random_state': 92}"
      ]
     },
     "execution_count": 83,
     "metadata": {},
     "output_type": "execute_result"
    }
   ],
   "source": [
    "#finding out which parameter is giving best accuracy\n",
    "gcv.best_params_"
   ]
  },
  {
   "cell_type": "code",
   "execution_count": 84,
   "id": "5a165f1c",
   "metadata": {},
   "outputs": [
    {
     "data": {
      "text/plain": [
       "sklearn.model_selection._search.GridSearchCV"
      ]
     },
     "execution_count": 84,
     "metadata": {},
     "output_type": "execute_result"
    }
   ],
   "source": [
    "type(gcv)"
   ]
  },
  {
   "cell_type": "code",
   "execution_count": 85,
   "id": "b0cb20a0",
   "metadata": {},
   "outputs": [
    {
     "data": {
      "text/plain": [
       "AdaBoostRegressor(learning_rate=0.1, n_estimators=500, random_state=92)"
      ]
     },
     "execution_count": 85,
     "metadata": {},
     "output_type": "execute_result"
    }
   ],
   "source": [
    "# finding best estimator\n",
    "gcv.best_estimator_"
   ]
  },
  {
   "cell_type": "code",
   "execution_count": 86,
   "id": "fa5664be",
   "metadata": {},
   "outputs": [
    {
     "name": "stdout",
     "output_type": "stream",
     "text": [
      "-3.002817621282194\n"
     ]
    }
   ],
   "source": [
    "# Applying the parameters to the final model\n",
    "pred = gcv.best_estimator_.predict(x_test)\n",
    "r2score=r2_score(y_test,pred)\n",
    "print(r2score)"
   ]
  },
  {
   "cell_type": "code",
   "execution_count": 87,
   "id": "c724d6ed",
   "metadata": {},
   "outputs": [
    {
     "data": {
      "text/plain": [
       "AdaBoostRegressor(learning_rate=0.1, n_estimators=500, random_state=92)"
      ]
     },
     "execution_count": 87,
     "metadata": {},
     "output_type": "execute_result"
    }
   ],
   "source": [
    "# saving the best model with parameters\n",
    "model=AdaBoostRegressor(learning_rate=0.1, n_estimators=500, random_state=92)\n",
    "model.fit(x_train,y_train)"
   ]
  },
  {
   "cell_type": "code",
   "execution_count": 88,
   "id": "fb00f847",
   "metadata": {},
   "outputs": [
    {
     "data": {
      "text/plain": [
       "['avacado_regression.pkl']"
      ]
     },
     "execution_count": 88,
     "metadata": {},
     "output_type": "execute_result"
    }
   ],
   "source": [
    "import joblib\n",
    "joblib.dump(model,'avacado_regression.pkl')"
   ]
  },
  {
   "cell_type": "code",
   "execution_count": null,
   "id": "574327cf",
   "metadata": {},
   "outputs": [],
   "source": []
  }
 ],
 "metadata": {
  "kernelspec": {
   "display_name": "Python 3 (ipykernel)",
   "language": "python",
   "name": "python3"
  },
  "language_info": {
   "codemirror_mode": {
    "name": "ipython",
    "version": 3
   },
   "file_extension": ".py",
   "mimetype": "text/x-python",
   "name": "python",
   "nbconvert_exporter": "python",
   "pygments_lexer": "ipython3",
   "version": "3.9.13"
  }
 },
 "nbformat": 4,
 "nbformat_minor": 5
}
